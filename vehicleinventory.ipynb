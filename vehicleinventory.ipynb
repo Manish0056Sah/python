{
  "nbformat": 4,
  "nbformat_minor": 0,
  "metadata": {
    "colab": {
      "provenance": []
    },
    "kernelspec": {
      "name": "python3",
      "display_name": "Python 3"
    },
    "language_info": {
      "name": "python"
    }
  },
  "cells": [
    {
      "cell_type": "markdown",
      "source": [
        "***Vehicle Inventory System***"
      ],
      "metadata": {
        "id": "v8SnJAob5qWW"
      }
    },
    {
      "cell_type": "code",
      "execution_count": null,
      "metadata": {
        "colab": {
          "base_uri": "https://localhost:8080/"
        },
        "id": "KzCEb6QN5cwb",
        "outputId": "4f01f074-6e71-4816-9b8d-f23807672f57"
      },
      "outputs": [
        {
          "output_type": "stream",
          "name": "stdout",
          "text": [
            "Make: Toyota, Model: Camry, Year: 2021\n",
            "Number of Doors: 4\n",
            "\n",
            "Make: Honda, Model: CBR500R, Year: 2022\n",
            "Engine Capacity: 500cc\n",
            "\n",
            "Make: Ford, Model: F-150, Year: 2020\n",
            "Payload Capacity: 2 tons\n"
          ]
        }
      ],
      "source": [
        "class Vehicle:\n",
        "    def __init__(self, make, model, year):\n",
        "        self.make = make\n",
        "        self.model = model\n",
        "        self.year = year\n",
        "\n",
        "    def display_details(self):\n",
        "        print(f\"Make: {self.make}, Model: {self.model}, Year: {self.year}\")\n",
        "\n",
        "\n",
        "class Car(Vehicle):\n",
        "    def __init__(self, make, model, year, num_doors):\n",
        "        super().__init__(make, model, year)\n",
        "        self.num_doors = num_doors\n",
        "\n",
        "    def display_details(self):\n",
        "        super().display_details()\n",
        "        print(f\"Number of Doors: {self.num_doors}\")\n",
        "\n",
        "\n",
        "class Motorcycle(Vehicle):\n",
        "    def __init__(self, make, model, year, engine_capacity):\n",
        "        super().__init__(make, model, year)\n",
        "        self.engine_capacity = engine_capacity\n",
        "\n",
        "    def display_details(self):\n",
        "        super().display_details()\n",
        "        print(f\"Engine Capacity: {self.engine_capacity}cc\")\n",
        "\n",
        "\n",
        "class Truck(Vehicle):\n",
        "    def __init__(self, make, model, year, payload_capacity):\n",
        "        super().__init__(make, model, year)\n",
        "        self.payload_capacity = payload_capacity\n",
        "\n",
        "    def display_details(self):\n",
        "        super().display_details()\n",
        "        print(f\"Payload Capacity: {self.payload_capacity} tons\")\n",
        "\n",
        "\n",
        "# Creating instances of different vehicle types\n",
        "car = Car(\"Toyota\", \"Camry\", 2021, 4)\n",
        "motorcycle = Motorcycle(\"Honda\", \"CBR500R\", 2022, 500)\n",
        "truck = Truck(\"Ford\", \"F-150\", 2020, 2)\n",
        "\n",
        "# Displaying vehicle details\n",
        "car.display_details()\n",
        "print()\n",
        "motorcycle.display_details()\n",
        "print()\n",
        "truck.display_details()\n",
        "print()"
      ]
    },
    {
      "cell_type": "markdown",
      "source": [
        "***Employee Management System***"
      ],
      "metadata": {
        "id": "bz5kAML2MO7z"
      }
    },
    {
      "cell_type": "code",
      "source": [
        "class Employee:\n",
        "  def __init__(self,name,ID,salary,bonus,role):\n",
        "    self.name =name\n",
        "    self.ID = ID\n",
        "    self.salary = salary\n",
        "    self.bonus = bonus\n",
        "    self.role = role\n",
        "  def details(self):\n",
        "    print(f\"Name is:{self.name}.ID is:{self.ID}.salary is:{self.salary},You got bonus :{self.bonus},and promoted as a {self.role}.\")\n",
        "\n",
        "class Manager(Employee):\n",
        "  def __init__(self,name,ID,salary,bonus,role):\n",
        "    super().__init__(name,ID,salary,bonus,role)\n",
        "    # self.bonus = bonus\n",
        "    # self.role = role\n",
        "\n",
        "  def display_bonus(self):\n",
        "    super().details()\n",
        "    # print(f\"The bonus is:{self.bonus}\")\n",
        "    # print(f\"The role is:{self.role}\")\n",
        "\n",
        "class Engineer(Employee):\n",
        "  def __init__(self,name,ID,salary,bonus,role):\n",
        "    super().__init__(name,ID,salary,bonus,role)\n",
        "    # self.bonus= bonus\n",
        "    # self.role = role\n",
        "\n",
        "  def display_bonus(self):\n",
        "    super().details()\n",
        "    # print(f\"The bonus is:{self.bonus}\")\n",
        "    # print(f\"The role is:{self.role}\")\n",
        "class Salesperson(Employee):\n",
        "  def __init__(self,name,ID,salary,bonus,role):\n",
        "    super().__init__(name,ID,salary,bonus,role)\n",
        "    # self.bonus = bonus\n",
        "    # self.role =role\n",
        "\n",
        "  def display_bonus(self):\n",
        "    super().details()\n",
        "    # print(f\"The bonus is:{self.bonus}\")\n",
        "    # print(f\"The role is:{self.role}\")\n",
        "\n",
        "print(\"*************Thank you all guys for supporting this company***************\")\n",
        "Manager = Manager(\"Manish_sah\",1,50000,50000/10,\"Senior_Manager\")\n",
        "Engineer = Engineer(\"Anish_sah\",2,40000,40000/10,\"Senior_Engineer\")\n",
        "Salesperson = Salesperson(\"Rima_sah\",3,30000,30000/10,\"Senior_salesperson\")\n",
        "\n",
        "Manager.display_bonus()\n",
        "print()\n",
        "Engineer.display_bonus()\n",
        "print()\n",
        "Salesperson.display_bonus()\n",
        "print()"
      ],
      "metadata": {
        "colab": {
          "base_uri": "https://localhost:8080/"
        },
        "id": "WVF0svu5Arcu",
        "outputId": "1a0ef168-7dff-4889-f545-d3142c60d4d1"
      },
      "execution_count": null,
      "outputs": [
        {
          "output_type": "stream",
          "name": "stdout",
          "text": [
            "*************Thank you all guys for supporting this company***************\n",
            "Name is:Manish_sah.ID is:1.salary is:50000,You got bonus :5000.0,and promoted as a Senior_Manager.\n",
            "\n",
            "Name is:Anish_sah.ID is:2.salary is:40000,You got bonus :4000.0,and promoted as a Senior_Engineer.\n",
            "\n",
            "Name is:Rima_sah.ID is:3.salary is:30000,You got bonus :3000.0,and promoted as a Senior_salesperson.\n",
            "\n"
          ]
        }
      ]
    }
  ]
}