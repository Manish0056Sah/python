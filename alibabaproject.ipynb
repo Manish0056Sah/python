{
 "cells": [
  {
   "cell_type": "code",
   "execution_count": 1,
   "id": "e4f598be",
   "metadata": {},
   "outputs": [
    {
     "name": "stdout",
     "output_type": "stream",
     "text": [
      "                                         Product_Name        Prices_list\n",
      "0   Lightweight intelligent high-definition projec...          [$990.00]\n",
      "1   BYINTEK X30 New hot model high brightness proj...  [$150.33-$161.52]\n",
      "2   Projector TOP 1 Model H-D11 Support 4K Input B...  [$195.00-$209.00]\n",
      "3   BYINTEK P70 Smart WiFI Android 3D Home Theater...  [$196.64-$204.54]\n",
      "4   Projector 8K Blu-ray Lens Smartphone Wireless ...    [$65.00-$85.00]\n",
      "5   2022 New X1 4K Smart Projector Quad Core Andro...    [$20.00-$85.00]\n",
      "6   MINI Projector Smart TV Full HD/4K 1080P 3LCD ...  [$250.00-$499.00]\n",
      "7   Budplus V1 Mini led HD projectors 3600 Lumens ...    [$15.50-$35.82]\n",
      "8   TD-H80 Mini projector 600 lumens Home Theater ...    [$34.65-$38.61]\n",
      "9   top Hot Selling Factory Oem Odm 6000 High Lume...    [$40.00-$43.50]\n",
      "10  BYINTEK K25 Smart WIFI 3D LCD Video Full HD 10...  [$117.61-$126.81]\n",
      "11  Factory supply ODM/OEM business led 5000 lumen...    [$80.00-$90.00]\n",
      "12  AK300 320*240p video beamer home cinema theate...    [$12.74-$17.64]\n",
      "13  Original factory led mini projector portable h...    [$45.00-$51.00]\n",
      "14  Hotack mini mobile hd projector 4k portable an...  [$119.00-$160.00]\n"
     ]
    }
   ],
   "source": [
    "import requests\n",
    "from bs4 import BeautifulSoup\n",
    "import pandas as pd\n",
    "\n",
    "url = \"https://www.alibaba.com/trade/search?spm=a2700.product_home_l0.category_nav.category_popup&CatId=2107&SearchText=Projectors&language=en&indexArea=product_en\"\n",
    "r = requests.get(url)\n",
    "r\n",
    "soup = BeautifulSoup(r.text,\"lxml\")\n",
    "Items = soup.find_all(\"p\",class_=\"elements-title-normal__content large\")\n",
    "# print(Items)\n",
    "product_name=[]\n",
    "for i in Items:\n",
    "    Item = i.text\n",
    "    product_name.append(Item)\n",
    "# print(product_name)\n",
    "prices = soup.find_all(\"span\",class_=\"elements-offer-price-normal__price\")\n",
    "# print(prices)\n",
    "prices_list = []\n",
    "for i in prices:\n",
    "    price = i.text.split(\"\\n\")\n",
    "    prices_list.append(price)\n",
    "# print(prices_list)\n",
    "df =pd.DataFrame({\"Product_Name\":product_name,\"Prices_list\":prices_list})\n",
    "print(df)\n",
    "import csv\n",
    "file = open('alibaba_project.csv','w')\n",
    "x= csv.writer(file)\n",
    "x.writerows(df)\n",
    "file.close()"
   ]
  }
 ],
 "metadata": {
  "kernelspec": {
   "display_name": "Python 3 (ipykernel)",
   "language": "python",
   "name": "python3"
  },
  "language_info": {
   "codemirror_mode": {
    "name": "ipython",
    "version": 3
   },
   "file_extension": ".py",
   "mimetype": "text/x-python",
   "name": "python",
   "nbconvert_exporter": "python",
   "pygments_lexer": "ipython3",
   "version": "3.10.9"
  }
 },
 "nbformat": 4,
 "nbformat_minor": 5
}
