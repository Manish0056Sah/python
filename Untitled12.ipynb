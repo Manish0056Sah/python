{
 "cells": [
  {
   "cell_type": "code",
   "execution_count": 5,
   "id": "605a7296",
   "metadata": {},
   "outputs": [
    {
     "name": "stderr",
     "output_type": "stream",
     "text": [
      "C:\\Users\\ASUS\\AppData\\Local\\Temp\\ipykernel_2888\\3449345897.py:3: MarkupResemblesLocatorWarning: The input looks more like a URL than markup. You may want to use an HTTP client like requests to get the document behind the URL, and feed that document to Beautiful Soup.\n",
      "  url = BeautifulSoup('https://www.fxpro.com/?ib=9163099', 'html.parser')\n"
     ]
    },
    {
     "data": {
      "text/plain": [
       "[]"
      ]
     },
     "execution_count": 5,
     "metadata": {},
     "output_type": "execute_result"
    }
   ],
   "source": [
    " from bs4 import BeautifulSoup\n",
    " import requests\n",
    " url = BeautifulSoup('https://www.fxpro.com/?ib=9163099', 'html.parser')\n",
    " soup = requests.get(url)\n",
    " soup\n",
    " raw_data = soup.text\n",
    " raw_data =BeautifulSoup(raw_data, \"lxml\")        \t#this data is in string format so we have to change this \n",
    "#  raw_data\n",
    "#  table_code = raw_data.table\n",
    "#  table_code\n",
    " tags=raw_data.find_all(\"div\",class_=\"table-body\")\n",
    " tags\n",
    " data = []\n",
    " for tag in tags:\n",
    "     y=tag.text.split('\\n') \n",
    "     if y[1]!=\"\":\n",
    "         data.append(y)\n",
    " data"
   ]
  }
 ],
 "metadata": {
  "kernelspec": {
   "display_name": "Python 3 (ipykernel)",
   "language": "python",
   "name": "python3"
  },
  "language_info": {
   "codemirror_mode": {
    "name": "ipython",
    "version": 3
   },
   "file_extension": ".py",
   "mimetype": "text/x-python",
   "name": "python",
   "nbconvert_exporter": "python",
   "pygments_lexer": "ipython3",
   "version": "3.10.9"
  }
 },
 "nbformat": 4,
 "nbformat_minor": 5
}
