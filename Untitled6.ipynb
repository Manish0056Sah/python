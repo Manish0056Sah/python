{
 "cells": [
  {
   "cell_type": "code",
   "execution_count": 2,
   "id": "d4def3cc",
   "metadata": {},
   "outputs": [
    {
     "name": "stdout",
     "output_type": "stream",
     "text": [
      "Enter usernamemanish\n",
      "Enter password········\n",
      "sry...\n"
     ]
    }
   ],
   "source": [
    "from getpass import getpass\n",
    "\n",
    "n = \"manish\"\n",
    "m = 9819852559\n",
    "username = input(\"Enter username\")\n",
    "password = getpass(\"Enter password\")\n",
    "print(\"login successfull\") if n==username and m==password else print(\"sry...\")"
   ]
  }
 ],
 "metadata": {
  "kernelspec": {
   "display_name": "Python 3 (ipykernel)",
   "language": "python",
   "name": "python3"
  },
  "language_info": {
   "codemirror_mode": {
    "name": "ipython",
    "version": 3
   },
   "file_extension": ".py",
   "mimetype": "text/x-python",
   "name": "python",
   "nbconvert_exporter": "python",
   "pygments_lexer": "ipython3",
   "version": "3.10.9"
  }
 },
 "nbformat": 4,
 "nbformat_minor": 5
}
