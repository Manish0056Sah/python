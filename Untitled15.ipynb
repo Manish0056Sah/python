{
 "cells": [
  {
   "cell_type": "code",
   "execution_count": 41,
   "id": "fcb35904",
   "metadata": {},
   "outputs": [],
   "source": [
    "import requests\n",
    "from bs4 import BeautifulSoup\n",
    "\n",
    "url = \"https://www.sodhis.in/list/Grocery%20And%20Staples\"\n",
    "\n",
    "# Send a GET request to the website\n",
    "response = requests.get(url)\n",
    "\n",
    "# Create a BeautifulSoup object to parse the HTML content\n",
    "soup = BeautifulSoup(response.content, 'html.parser')\n",
    "\n",
    "# Find all the product containers\n",
    "product_containers = soup.find_all('div', class_='product-item')\n",
    "\n",
    "# Iterate over each product container\n",
    "for container in product_containers:\n",
    "    # Extract the product name\n",
    "    product_name = container.find('a', class_='title').text.strip()\n",
    "\n",
    "    # Extract the product price\n",
    "    product_price = container.find('div', class_='price').text.strip()\n",
    "\n",
    "    # Print the product name and price\n",
    "    print(\"Product:\", product_name)\n",
    "    print(\"Price:\", product_price)\n",
    "    print(\"-------------------------------------\")\n"
   ]
  },
  {
   "cell_type": "code",
   "execution_count": null,
   "id": "6662a17d",
   "metadata": {},
   "outputs": [],
   "source": []
  }
 ],
 "metadata": {
  "kernelspec": {
   "display_name": "Python 3 (ipykernel)",
   "language": "python",
   "name": "python3"
  },
  "language_info": {
   "codemirror_mode": {
    "name": "ipython",
    "version": 3
   },
   "file_extension": ".py",
   "mimetype": "text/x-python",
   "name": "python",
   "nbconvert_exporter": "python",
   "pygments_lexer": "ipython3",
   "version": "3.10.9"
  }
 },
 "nbformat": 4,
 "nbformat_minor": 5
}
