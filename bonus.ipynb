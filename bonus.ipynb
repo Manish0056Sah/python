{
  "cells": [
    {
      "cell_type": "code",
      "execution_count": null,
      "id": "a91ee20f",
      "metadata": {
        "id": "a91ee20f",
        "outputId": "3786094a-07ea-40c3-e2b6-8c1a3d25595a"
      },
      "outputs": [
        {
          "name": "stdout",
          "output_type": "stream",
          "text": [
            "2023-06-19 08:21:15.824519\n"
          ]
        }
      ],
      "source": [
        "#Data and time package\n",
        "import datetime as dt\n",
        "\n",
        "x = dt.datetime.now()\n",
        "print(x)"
      ]
    },
    {
      "cell_type": "code",
      "execution_count": null,
      "id": "7647389a",
      "metadata": {
        "id": "7647389a",
        "outputId": "c79f5df3-7860-4a60-c2d2-a8d0384b080a"
      },
      "outputs": [
        {
          "name": "stdout",
          "output_type": "stream",
          "text": [
            "2023\n",
            "6\n",
            "19\n",
            "8\n"
          ]
        }
      ],
      "source": [
        "x = dt.datetime.now()\n",
        "print(x.year)\n",
        "print(x.month)\n",
        "print(x.day)\n",
        "print(x.hour)"
      ]
    },
    {
      "cell_type": "code",
      "execution_count": null,
      "id": "702b787e",
      "metadata": {
        "id": "702b787e",
        "outputId": "516e083e-7e1b-4d03-c003-7e8fbead50ac"
      },
      "outputs": [
        {
          "name": "stdout",
          "output_type": "stream",
          "text": [
            "Monday\n",
            "Mon\n",
            "June\n",
            "Jun\n",
            "Mon Jun 19 08:22:34 2023\n",
            "20\n",
            "19\n",
            "06/19/23\n"
          ]
        }
      ],
      "source": [
        "print(x.strftime(\"%A\"))\n",
        "print(x.strftime(\"%a\"))\n",
        "print(x.strftime(\"%B\"))\n",
        "print(x.strftime(\"%b\"))\n",
        "print(x.strftime(\"%c\"))\n",
        "print(x.strftime(\"%C\"))\n",
        "print(x.strftime(\"%d\"))\n",
        "print(x.strftime(\"%D\"))\n"
      ]
    },
    {
      "cell_type": "code",
      "execution_count": null,
      "id": "2777744a",
      "metadata": {
        "id": "2777744a",
        "outputId": "31706cd5-fcb9-4653-bf26-05eae2dcbb47"
      },
      "outputs": [
        {
          "name": "stdout",
          "output_type": "stream",
          "text": [
            "Enter name = Ram\n",
            "2\n"
          ]
        }
      ],
      "source": [
        "x = dt.datetime.now().second\n",
        "name = input(\"Enter name = \")\n",
        "y = dt.datetime.now().second\n",
        "\n",
        "print(y-x)"
      ]
    },
    {
      "cell_type": "code",
      "execution_count": null,
      "id": "82dad7a6",
      "metadata": {
        "id": "82dad7a6",
        "outputId": "85a068c0-271e-4c97-8014-bd7b287fb8d8"
      },
      "outputs": [
        {
          "name": "stdout",
          "output_type": "stream",
          "text": [
            "Enter otp code = 4567\n",
            "You took 21 seconts Your time is out!\n"
          ]
        }
      ],
      "source": [
        "x = dt.datetime.now().second\n",
        "otp = input(\"Enter otp code = \")\n",
        "y = dt.datetime.now().second\n",
        "if y-x < 5:\n",
        "    print(\"Please collect you cash \")\n",
        "else:\n",
        "    print(f\"You took {y-x} seconts\",\"Your time is out!\")"
      ]
    },
    {
      "cell_type": "code",
      "execution_count": null,
      "id": "12773490",
      "metadata": {
        "id": "12773490",
        "outputId": "24be06ce-cafa-4090-9fef-4041170a8bf8"
      },
      "outputs": [
        {
          "data": {
            "text/plain": [
              "['.ipynb_checkpoints',\n",
              " 'bonus.ipynb',\n",
              " 'boooks.csv',\n",
              " 'data.csv',\n",
              " 'data.txt',\n",
              " 'data1.csv',\n",
              " 'data1.txt',\n",
              " 'dictionary.ipynb',\n",
              " 'file.ipynb',\n",
              " 'First_class.ipynb',\n",
              " 'function.ipynb',\n",
              " 'if else.ipynb',\n",
              " 'inheritance.ipynb',\n",
              " 'list.ipynb',\n",
              " 'loop.ipynb',\n",
              " 'new_data.csv',\n",
              " 'oop1.ipynb',\n",
              " 'pandas.ipynb',\n",
              " 'sql.ipynb',\n",
              " 'string.ipynb',\n",
              " 'tuple and set.ipynb',\n",
              " 'Untitled.ipynb',\n",
              " 'Untitled1.ipynb']"
            ]
          },
          "execution_count": 18,
          "metadata": {},
          "output_type": "execute_result"
        }
      ],
      "source": [
        "# os packages\n",
        "import os\n",
        "os.listdir()"
      ]
    },
    {
      "cell_type": "code",
      "execution_count": null,
      "id": "dc444155",
      "metadata": {
        "id": "dc444155"
      },
      "outputs": [],
      "source": [
        "os.mkdir('newFolder')"
      ]
    },
    {
      "cell_type": "code",
      "execution_count": null,
      "id": "e91a33c5",
      "metadata": {
        "id": "e91a33c5"
      },
      "outputs": [],
      "source": [
        "os.chdir('newFolder')"
      ]
    },
    {
      "cell_type": "code",
      "execution_count": null,
      "id": "aa479f00",
      "metadata": {
        "id": "aa479f00",
        "outputId": "4554641b-418f-4cda-8e72-c60842603bad"
      },
      "outputs": [
        {
          "data": {
            "text/plain": [
              "'C:\\\\Users\\\\Aayush\\\\Python_class_8am\\\\newFolder'"
            ]
          },
          "execution_count": 21,
          "metadata": {},
          "output_type": "execute_result"
        }
      ],
      "source": [
        "pwd"
      ]
    },
    {
      "cell_type": "code",
      "execution_count": null,
      "id": "0baa55b5",
      "metadata": {
        "id": "0baa55b5",
        "outputId": "2cd493c2-78bf-4005-b920-c4508c08b362"
      },
      "outputs": [
        {
          "name": "stdout",
          "output_type": "stream",
          "text": [
            "C:\\Users\\Aayush\\Python_class_8am\n"
          ]
        }
      ],
      "source": [
        "cd .."
      ]
    },
    {
      "cell_type": "code",
      "execution_count": null,
      "id": "cef66e83",
      "metadata": {
        "id": "cef66e83"
      },
      "outputs": [],
      "source": [
        "os.rename('New_Folder','newFolder1')"
      ]
    },
    {
      "cell_type": "code",
      "execution_count": null,
      "id": "c5f5052a",
      "metadata": {
        "id": "c5f5052a"
      },
      "outputs": [],
      "source": [
        "os.rmdir('newFolder1')"
      ]
    },
    {
      "cell_type": "code",
      "execution_count": null,
      "id": "3c91acce",
      "metadata": {
        "id": "3c91acce"
      },
      "outputs": [],
      "source": [
        "#Comprehensions: List, Dictionary"
      ]
    },
    {
      "cell_type": "code",
      "execution_count": null,
      "id": "3acfeb47",
      "metadata": {
        "id": "3acfeb47",
        "outputId": "e27e7198-451d-4030-9ac9-054cc7e6b358"
      },
      "outputs": [
        {
          "data": {
            "text/plain": [
              "[0, 1, 2, 3, 4, 5, 6, 7, 8, 9]"
            ]
          },
          "execution_count": 28,
          "metadata": {},
          "output_type": "execute_result"
        }
      ],
      "source": [
        "l = [i for i in range(10)]\n",
        "l"
      ]
    },
    {
      "cell_type": "code",
      "execution_count": null,
      "id": "83a677f0",
      "metadata": {
        "id": "83a677f0",
        "outputId": "547b5936-c861-4b7b-c3e9-ab0b60787238"
      },
      "outputs": [
        {
          "name": "stdout",
          "output_type": "stream",
          "text": [
            "Enter valus = Ram\n",
            "Enter valus = Shyam\n",
            "Enter valus = Hari\n",
            "Enter valus = Sita\n",
            "Enter valus = Gita\n"
          ]
        },
        {
          "data": {
            "text/plain": [
              "['Ram', 'Shyam', 'Hari', 'Sita', 'Gita']"
            ]
          },
          "execution_count": 29,
          "metadata": {},
          "output_type": "execute_result"
        }
      ],
      "source": [
        "l = [input(\"Enter valus = \") for i in range(5)]\n",
        "l"
      ]
    },
    {
      "cell_type": "code",
      "execution_count": null,
      "id": "ce9c68c0",
      "metadata": {
        "id": "ce9c68c0",
        "outputId": "e4e01f68-cb58-4e9b-be15-48f6be6de5ea"
      },
      "outputs": [
        {
          "data": {
            "text/plain": [
              "['apple', 'ball', 'cat', 'dog']"
            ]
          },
          "execution_count": 30,
          "metadata": {},
          "output_type": "execute_result"
        }
      ],
      "source": [
        "l = [\"Apple\",\"Ball\",\"Cat\",\"dog\"]\n",
        "data = [i.lower() for i in l]\n",
        "data"
      ]
    },
    {
      "cell_type": "code",
      "execution_count": null,
      "id": "d1d5336c",
      "metadata": {
        "id": "d1d5336c"
      },
      "outputs": [],
      "source": []
    },
    {
      "cell_type": "code",
      "execution_count": null,
      "id": "8f991b84",
      "metadata": {
        "id": "8f991b84",
        "outputId": "ec282511-8304-42a8-af74-1ce12831e30f"
      },
      "outputs": [
        {
          "data": {
            "text/plain": [
              "{'Apple': 'apple', 'Ball': 'ball', 'Cat': 'cat', 'dog': 'dog'}"
            ]
          },
          "execution_count": 35,
          "metadata": {},
          "output_type": "execute_result"
        }
      ],
      "source": [
        "# in dict\n",
        "l = [\"Apple\",\"Ball\",\"Cat\",\"dog\"]\n",
        "\n",
        "d = {i:i.lower() for i in l}\n",
        "d"
      ]
    },
    {
      "cell_type": "code",
      "execution_count": null,
      "id": "606445ea",
      "metadata": {
        "id": "606445ea",
        "outputId": "92f0a478-a6d0-4c9e-b1d3-6d08cd982431"
      },
      "outputs": [
        {
          "data": {
            "text/plain": [
              "['apple', 'ball', 'cat', 'dog']"
            ]
          },
          "execution_count": 39,
          "metadata": {},
          "output_type": "execute_result"
        }
      ],
      "source": [
        "list(d.values())"
      ]
    },
    {
      "cell_type": "code",
      "execution_count": null,
      "id": "5b90db88",
      "metadata": {
        "id": "5b90db88",
        "outputId": "a4797422-9196-4e70-a859-aaff19d0c57f"
      },
      "outputs": [
        {
          "data": {
            "text/plain": [
              "[('Apple', 'apple'), ('Ball', 'ball'), ('Cat', 'cat'), ('dog', 'dog')]"
            ]
          },
          "execution_count": 41,
          "metadata": {},
          "output_type": "execute_result"
        }
      ],
      "source": [
        "list(d.items())"
      ]
    },
    {
      "cell_type": "code",
      "execution_count": null,
      "id": "c05beb64",
      "metadata": {
        "id": "c05beb64",
        "outputId": "93eeea29-82fd-4c22-bcb4-4c76e10a06a1"
      },
      "outputs": [
        {
          "name": "stdout",
          "output_type": "stream",
          "text": [
            "Enter name = Ram\n",
            "Enter phone9808778765\n",
            "Enter name = Shyam\n",
            "Enter phone9878778765\n",
            "Enter name = Hari\n",
            "Enter phone9808778765\n",
            "Enter name = Sita\n",
            "Enter phone9808556530\n",
            "Enter name = Nabin\n",
            "Enter phone9823665439\n"
          ]
        },
        {
          "data": {
            "text/plain": [
              "{'Ram': '9808778765',\n",
              " 'Shyam': '9878778765',\n",
              " 'Hari': '9808778765',\n",
              " 'Sita': '9808556530',\n",
              " 'Nabin': '9823665439'}"
            ]
          },
          "execution_count": 42,
          "metadata": {},
          "output_type": "execute_result"
        }
      ],
      "source": [
        "d = {input(\"Enter name = \"):input(\"Enter phone\") for i in range(5)}\n",
        "d"
      ]
    },
    {
      "cell_type": "code",
      "execution_count": null,
      "id": "c5199540",
      "metadata": {
        "id": "c5199540"
      },
      "outputs": [],
      "source": []
    }
  ],
  "metadata": {
    "kernelspec": {
      "display_name": "Python 3 (ipykernel)",
      "language": "python",
      "name": "python3"
    },
    "language_info": {
      "codemirror_mode": {
        "name": "ipython",
        "version": 3
      },
      "file_extension": ".py",
      "mimetype": "text/x-python",
      "name": "python",
      "nbconvert_exporter": "python",
      "pygments_lexer": "ipython3",
      "version": "3.9.12"
    },
    "colab": {
      "provenance": []
    }
  },
  "nbformat": 4,
  "nbformat_minor": 5
}