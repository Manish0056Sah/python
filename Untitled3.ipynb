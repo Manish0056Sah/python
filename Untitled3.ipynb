{
 "cells": [
  {
   "cell_type": "code",
   "execution_count": 20,
   "id": "29962f7a",
   "metadata": {},
   "outputs": [
    {
     "ename": "IndentationError",
     "evalue": "expected an indented block after 'try' statement on line 8 (3791027056.py, line 9)",
     "output_type": "error",
     "traceback": [
      "\u001b[1;36m  Cell \u001b[1;32mIn[20], line 9\u001b[1;36m\u001b[0m\n\u001b[1;33m    db = database.cursor()\u001b[0m\n\u001b[1;37m    ^\u001b[0m\n\u001b[1;31mIndentationError\u001b[0m\u001b[1;31m:\u001b[0m expected an indented block after 'try' statement on line 8\n"
     ]
    }
   ],
   "source": [
    "!pip install mysql-connector\n",
    "import mysql.connector\n",
    "database = mysql.connector.connect(\n",
    "    host = \"localhost\",\n",
    "    user = \"root\",\n",
    "    password = \"\"\n",
    ")\n",
    "db = database.cursor()\n",
    "db.execute(\"CREATE DATABASE always\")      # A database is created only ine time after that it pass wrong"
   ]
  },
  {
   "cell_type": "code",
   "execution_count": 12,
   "id": "8baaaa3a",
   "metadata": {},
   "outputs": [
    {
     "name": "stdout",
     "output_type": "stream",
     "text": [
      "(1, 'Manish kumar sah', 'Janakpurdham', '9819852559')\n"
     ]
    }
   ],
   "source": [
    "# selection\n",
    "import mysql.connector\n",
    "database = mysql.connector.connect(\n",
    "    host = \"localhost\",\n",
    "    user = \"root\",\n",
    "    password = \"\",\n",
    "    database = \"brosdway_python\"\n",
    "\n",
    ")\n",
    "db = database.cursor()\n",
    "db.execute(\"SELECT * FROM python_8am \")\n",
    "result = db.fetchall()\n",
    "for i in result:\n",
    "    print(i)"
   ]
  },
  {
   "cell_type": "code",
   "execution_count": 14,
   "id": "d034ee10",
   "metadata": {},
   "outputs": [
    {
     "name": "stdout",
     "output_type": "stream",
     "text": [
      "(1, 'B10992', 'B.Tech', 'Bachelor  of Technology', datetime.datetime(2020, 7, 5, 1, 16, 42))\n",
      "(2, 'BCOM1453', 'B.Com', 'Bachelor Of commerce ', datetime.datetime(2020, 7, 5, 1, 16, 42))\n",
      "(3, 'BSC12', 'BSC', 'Bachelor  of Science', datetime.datetime(2020, 7, 5, 1, 16, 42))\n",
      "(4, 'BC36356', 'BCA', 'Bachelor Of Computer Application', datetime.datetime(2020, 7, 5, 1, 16, 42))\n",
      "(5, 'MCA565', 'MCA', 'Master of Computer Application', datetime.datetime(2020, 7, 5, 1, 16, 42))\n",
      "(6, 'MBA75', 'MBA', 'Master of Business Administration', datetime.datetime(2020, 7, 5, 1, 16, 42))\n"
     ]
    }
   ],
   "source": [
    "database = mysql.connector.connect(\n",
    "    host = \"localhost\",\n",
    "    user = \"root\",\n",
    "    password = \"\",\n",
    "    database = \"hostel\"\n",
    ")\n",
    "db = database.cursor()\n",
    "db.execute(\"select *  from courses where id<=6\")\n",
    "value = db.fetchall()\n",
    "for i in value:\n",
    "    print(i)"
   ]
  }
 ],
 "metadata": {
  "kernelspec": {
   "display_name": "Python 3 (ipykernel)",
   "language": "python",
   "name": "python3"
  },
  "language_info": {
   "codemirror_mode": {
    "name": "ipython",
    "version": 3
   },
   "file_extension": ".py",
   "mimetype": "text/x-python",
   "name": "python",
   "nbconvert_exporter": "python",
   "pygments_lexer": "ipython3",
   "version": "3.10.9"
  }
 },
 "nbformat": 4,
 "nbformat_minor": 5
}
