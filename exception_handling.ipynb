{
 "cells": [
  {
   "cell_type": "code",
   "execution_count": 1,
   "id": "230090e0",
   "metadata": {},
   "outputs": [],
   "source": [
    "# try:\n",
    "#     <operation>\n",
    "# except:\n",
    "#     <operation>\n",
    "    "
   ]
  },
  {
   "cell_type": "code",
   "execution_count": null,
   "id": "2733da2a",
   "metadata": {},
   "outputs": [],
   "source": [
    "while True:\n",
    "    try:\n",
    "        a = int(input(\"Enter a = \"))\n",
    "    except:\n",
    "        print(\"Enter valid int\")\n",
    "else:\n",
    "    exit()"
   ]
  },
  {
   "cell_type": "markdown",
   "id": "34b3942a",
   "metadata": {},
   "source": [
    "try:\n",
    "    a = int(input(\"Enter a = \"))\n",
    "    b = int(input(\"Enter b = \"))\n",
    "    c = a/b\n",
    "    print(c)\n",
    "except ZeroDivisionError:\n",
    "    print(\"Some error occured\")\n",
    "except ValueError:\n",
    "    print(\"a and b should be int\")"
   ]
  },
  {
   "cell_type": "code",
   "execution_count": 2,
   "id": "3531d973",
   "metadata": {},
   "outputs": [
    {
     "name": "stdout",
     "output_type": "stream",
     "text": [
      "Enter a = 23\n",
      "Enter b = 43\n",
      "0.5348837209302325\n"
     ]
    }
   ],
   "source": [
    "try:\n",
    "    a = int(input(\"Enter a = \"))\n",
    "    b = int(input(\"Enter b = \"))\n",
    "    c = a/b\n",
    "    print(c)\n",
    "except ZeroDivisionError:\n",
    "    print(\"Some error occured\")\n",
    "except ValueError:\n",
    "    print(\"a and b should be int\")"
   ]
  },
  {
   "cell_type": "code",
   "execution_count": null,
   "id": "6dbe193b",
   "metadata": {},
   "outputs": [],
   "source": [
    "try:\n",
    "    a = int(input(\"Enter a = \"))\n",
    "    b = int(input(\"Enter b = \"))\n",
    "    c = a/b\n",
    "except ZeroDivisionError:\n",
    "    print(\"Some error occured\")\n",
    "except ValueError:\n",
    "    print(\"a and b should be int\")\n",
    "else:\n",
    "    print(c)"
   ]
  },
  {
   "cell_type": "code",
   "execution_count": 11,
   "id": "eaddc41f",
   "metadata": {},
   "outputs": [
    {
     "name": "stdout",
     "output_type": "stream",
     "text": [
      "Enter username:=sdf\n",
      "Enter password:=f\n",
      "The username or password does not match.\n",
      "Enter username:=fr\n",
      "Enter password:=fg\n",
      "The username or password does not match.\n",
      "Enter username:=admin\n",
      "Enter password:=admin\n",
      "you are loged_in\n",
      "you are success after 3 attempt\n"
     ]
    }
   ],
   "source": [
    "username = \"admin\"\n",
    "password = \"admin\"\n",
    "c=1\n",
    "def login():\n",
    "    global c\n",
    "    try:\n",
    "        username1 = input(\"Enter username:=\")\n",
    "        password1 = input(\"Enter password:=\")\n",
    "        assert (username1 == username) and (password1 == password)   #assert give error not true or false \n",
    "    except:\n",
    "        print(\"The username or password does not match.\")\n",
    "        c= c+1\n",
    "        login()                                            #recursive function is used\n",
    "    else:\n",
    "        print(\"you are loged_in\")\n",
    "\n",
    "login()\n",
    "print(f\"you are success after {c} attempt\")"
   ]
  },
  {
   "cell_type": "code",
   "execution_count": null,
   "id": "45fe7a7e",
   "metadata": {},
   "outputs": [],
   "source": [
    "try:\n",
    "    file =open('data.txt','r')\n",
    "except:\n",
    "    print(\"There is no such file\")\n",
    "else:\n",
    "    print(file.read())\n",
    "finally:\n",
    "    file.close()"
   ]
  }
 ],
 "metadata": {
  "kernelspec": {
   "display_name": "Python 3 (ipykernel)",
   "language": "python",
   "name": "python3"
  },
  "language_info": {
   "codemirror_mode": {
    "name": "ipython",
    "version": 3
   },
   "file_extension": ".py",
   "mimetype": "text/x-python",
   "name": "python",
   "nbconvert_exporter": "python",
   "pygments_lexer": "ipython3",
   "version": "3.10.9"
  }
 },
 "nbformat": 4,
 "nbformat_minor": 5
}
