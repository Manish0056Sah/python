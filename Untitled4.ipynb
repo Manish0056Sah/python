{
 "cells": [
  {
   "cell_type": "code",
   "execution_count": 7,
   "id": "99d80934",
   "metadata": {},
   "outputs": [
    {
     "name": "stdout",
     "output_type": "stream",
     "text": [
      "enter your namemanish\n",
      "enter your addressjanakpur\n",
      "ENter you gmailmanish@gmail.com\n"
     ]
    }
   ],
   "source": [
    "import mysql.connector\n",
    "database = mysql.connector.connect(\n",
    "    host = \"localhost\",\n",
    "    user = \"root\",\n",
    "    password= \"\",\n",
    "    database = \"brosdway_python\"\n",
    "\n",
    ")\n",
    "db = database.cursor()\n",
    "\n",
    "Name = input(\"enter your name:\")\n",
    "Address = input(\"enter your address:\")\n",
    "Gmail = input(\"ENter you gmail:\")\n",
    "\n",
    "sql = f'''INSERT INTO student (Name,Address,Gmail) VALUES('{Name}','{Address}','{Gmail}')'''\n",
    "db.execute(sql)\n",
    "database.commit()\n"
   ]
  },
  {
   "cell_type": "code",
   "execution_count": 9,
   "id": "c7d378b5",
   "metadata": {},
   "outputs": [
    {
     "name": "stdout",
     "output_type": "stream",
     "text": [
      "Enter nth time you want to enter the data3\n",
      "enter your name:manish\n",
      "enter your address:jan\n",
      "ENter you gmail:manih@gmail.com\n",
      "enter your name:anish\n",
      "enter your address:jhapa\n",
      "ENter you gmail:ansh@gmail.com\n",
      "enter your name:rina\n",
      "enter your address:mktm\n",
      "ENter you gmail:rina@gmail.com\n"
     ]
    }
   ],
   "source": [
    "import mysql.connector\n",
    "database = mysql.connector.connect(\n",
    "    host = \"localhost\",\n",
    "    user = \"root\",\n",
    "    password= \"\",\n",
    "    database = \"brosdway_python\"\n",
    "\n",
    ")\n",
    "db = database.cursor()\n",
    "n = int(input(\"Enter nth time you want to enter the data\"))\n",
    "for i in range(n):\n",
    "    Name = input(\"enter your name:\")\n",
    "    Address = input(\"enter your address:\")\n",
    "    Gmail = input(\"ENter you gmail:\")\n",
    "\n",
    "    sql = f'''INSERT INTO student (Name,Address,Gmail) VALUES('{Name}','{Address}','{Gmail}')'''\n",
    "    db.execute(sql)\n",
    "database.commit()"
   ]
  },
  {
   "cell_type": "code",
   "execution_count": 10,
   "id": "d9e17cbd",
   "metadata": {},
   "outputs": [],
   "source": [
    "import mysql.connector\n",
    "database = mysql.connector.connect(\n",
    "    host = \"localhost\",\n",
    "    user = \"root\",\n",
    "    password= \"\",\n",
    "    database = \"brosdway_python\"\n",
    "\n",
    ")\n",
    "db = database.cursor()\n",
    "n = \"DELETE FROM student WHERE name ='manish'\"\n",
    "db.execute(n)\n",
    "database.commit()"
   ]
  },
  {
   "cell_type": "code",
   "execution_count": null,
   "id": "653c3a0b",
   "metadata": {},
   "outputs": [],
   "source": [
    "import mysql.connector\n",
    "database = mysql.connector.connect(\n",
    "    host = \"localhost\",\n",
    "    user = \"root\",\n",
    "    password= \"\",\n",
    "    database = \"brosdway_python\"\n",
    "\n",
    ")\n",
    "db = database.cursor()\n",
    "n = \"DELETE FROM student WHERE name ='manish'\"\n",
    "db.execute(n)\n",
    "database.commit()"
   ]
  },
  {
   "cell_type": "code",
   "execution_count": 18,
   "id": "f6f15d2d",
   "metadata": {},
   "outputs": [],
   "source": [
    "import mysql.connector\n",
    "database = mysql.connector.connect(\n",
    "    host = \"localhost\",\n",
    "    user = \"root\",\n",
    "    password= \"\",\n",
    "    database = \"brosdway_python\"\n",
    "\n",
    ")\n",
    "db = database.cursor()\n",
    "b= '''INSERT INTO student VALUES('','debendra sah','nagarain','debendra@gmail.com')'''\n",
    "db.execute(b)\n",
    "database.commit()"
   ]
  }
 ],
 "metadata": {
  "kernelspec": {
   "display_name": "Python 3 (ipykernel)",
   "language": "python",
   "name": "python3"
  },
  "language_info": {
   "codemirror_mode": {
    "name": "ipython",
    "version": 3
   },
   "file_extension": ".py",
   "mimetype": "text/x-python",
   "name": "python",
   "nbconvert_exporter": "python",
   "pygments_lexer": "ipython3",
   "version": "3.10.9"
  }
 },
 "nbformat": 4,
 "nbformat_minor": 5
}
