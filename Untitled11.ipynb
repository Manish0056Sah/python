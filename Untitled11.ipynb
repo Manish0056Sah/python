{
 "cells": [
  {
   "cell_type": "code",
   "execution_count": 8,
   "id": "b242e1ae",
   "metadata": {},
   "outputs": [
    {
     "name": "stdout",
     "output_type": "stream",
     "text": [
      "[]\n"
     ]
    }
   ],
   "source": [
    "import requests\n",
    "from bs4 import BeautifulSoup\n",
    "import pandas as pd\n",
    "\n",
    "url = \"https://www.daraz.com.np/face-wash/?spm=a2a0e.searchlistcategory.cate_2_8.2.2ecd3030YKBSPS\"\n",
    "r = requests.get(url)\n",
    "soup = BeautifulSoup(r.text,\"lxml\")\n",
    "Items = soup.find_all(\"div.a\",class_=\"title--wFj93\")\n",
    "print(Items)"
   ]
  }
 ],
 "metadata": {
  "kernelspec": {
   "display_name": "Python 3 (ipykernel)",
   "language": "python",
   "name": "python3"
  },
  "language_info": {
   "codemirror_mode": {
    "name": "ipython",
    "version": 3
   },
   "file_extension": ".py",
   "mimetype": "text/x-python",
   "name": "python",
   "nbconvert_exporter": "python",
   "pygments_lexer": "ipython3",
   "version": "3.10.9"
  }
 },
 "nbformat": 4,
 "nbformat_minor": 5
}
