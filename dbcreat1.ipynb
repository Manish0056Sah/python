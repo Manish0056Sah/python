{
 "cells": [
  {
   "cell_type": "code",
   "execution_count": 1,
   "id": "286553f9",
   "metadata": {},
   "outputs": [
    {
     "name": "stdout",
     "output_type": "stream",
     "text": [
      "Defaulting to user installation because normal site-packages is not writeable\n",
      "Requirement already satisfied: mysql-connector in c:\\users\\asus\\appdata\\roaming\\python\\python310\\site-packages (2.2.9)\n",
      "This database is already exist\n"
     ]
    }
   ],
   "source": [
    "!pip install mysql-connector\n",
    "import mysql.connector\n",
    "database = mysql.connector.connect(\n",
    "host = \"localhost\",\n",
    "    user = \"root\",\n",
    "    password = \"\"\n",
    "\n",
    ")\n",
    "db = database.cursor()\n",
    "try:\n",
    "    m = \"CREATE database manish\"\n",
    "    db.execute(m)\n",
    "    database.commit()\n",
    "except:\n",
    "    print(\"This database is already exist\")\n",
    "\n"
   ]
  },
  {
   "cell_type": "code",
   "execution_count": 3,
   "id": "c3b6abc5",
   "metadata": {},
   "outputs": [
    {
     "data": {
      "text/plain": [
       "True"
      ]
     },
     "execution_count": 3,
     "metadata": {},
     "output_type": "execute_result"
    }
   ],
   "source": [
    "import mysql.connector               #database creation\n",
    "database = mysql.connector.connect(\n",
    "host = \"localhost\",\n",
    "user = \"root\",\n",
    "password = \"\"\n",
    ")\n",
    "dc = database.cursor()\n",
    "creation = \"CREATE DATABASE Unique_hostel\"\n",
    "dc.execute(creation)\n",
    "dc.close()"
   ]
  },
  {
   "cell_type": "code",
   "execution_count": 22,
   "id": "353b2ebe",
   "metadata": {},
   "outputs": [
    {
     "ename": "ProgrammingError",
     "evalue": "1050 (42S01): Table 'first_floor' already exists",
     "output_type": "error",
     "traceback": [
      "\u001b[1;31m---------------------------------------------------------------------------\u001b[0m",
      "\u001b[1;31mProgrammingError\u001b[0m                          Traceback (most recent call last)",
      "Cell \u001b[1;32mIn[22], line 10\u001b[0m\n\u001b[0;32m      8\u001b[0m dc \u001b[38;5;241m=\u001b[39m database\u001b[38;5;241m.\u001b[39mcursor() \u001b[38;5;66;03m#table name is \"first floor\"\u001b[39;00m\n\u001b[0;32m      9\u001b[0m c_table \u001b[38;5;241m=\u001b[39m \u001b[38;5;124m\"\u001b[39m\u001b[38;5;124mCREATE TABLE first_floor(s_id int(11) auto_increment,name varchar(40),address varchar(30),phone_no int(10))\u001b[39m\u001b[38;5;124m\"\u001b[39m\n\u001b[1;32m---> 10\u001b[0m \u001b[43mdc\u001b[49m\u001b[38;5;241;43m.\u001b[39;49m\u001b[43mexecute\u001b[49m\u001b[43m(\u001b[49m\u001b[43mc_table\u001b[49m\u001b[43m)\u001b[49m\n\u001b[0;32m     11\u001b[0m dc\u001b[38;5;241m.\u001b[39mclose()\n",
      "File \u001b[1;32m~\\AppData\\Roaming\\Python\\Python310\\site-packages\\mysql\\connector\\cursor.py:551\u001b[0m, in \u001b[0;36mMySQLCursor.execute\u001b[1;34m(self, operation, params, multi)\u001b[0m\n\u001b[0;32m    549\u001b[0m \u001b[38;5;28;01melse\u001b[39;00m:\n\u001b[0;32m    550\u001b[0m     \u001b[38;5;28;01mtry\u001b[39;00m:\n\u001b[1;32m--> 551\u001b[0m         \u001b[38;5;28mself\u001b[39m\u001b[38;5;241m.\u001b[39m_handle_result(\u001b[38;5;28;43mself\u001b[39;49m\u001b[38;5;241;43m.\u001b[39;49m\u001b[43m_connection\u001b[49m\u001b[38;5;241;43m.\u001b[39;49m\u001b[43mcmd_query\u001b[49m\u001b[43m(\u001b[49m\u001b[43mstmt\u001b[49m\u001b[43m)\u001b[49m)\n\u001b[0;32m    552\u001b[0m     \u001b[38;5;28;01mexcept\u001b[39;00m errors\u001b[38;5;241m.\u001b[39mInterfaceError:\n\u001b[0;32m    553\u001b[0m         \u001b[38;5;28;01mif\u001b[39;00m \u001b[38;5;28mself\u001b[39m\u001b[38;5;241m.\u001b[39m_connection\u001b[38;5;241m.\u001b[39m_have_next_result:  \u001b[38;5;66;03m# pylint: disable=W0212\u001b[39;00m\n",
      "File \u001b[1;32m~\\AppData\\Roaming\\Python\\Python310\\site-packages\\mysql\\connector\\connection.py:490\u001b[0m, in \u001b[0;36mMySQLConnection.cmd_query\u001b[1;34m(self, query, raw, buffered, raw_as_string)\u001b[0m\n\u001b[0;32m    488\u001b[0m \u001b[38;5;28;01mif\u001b[39;00m \u001b[38;5;129;01mnot\u001b[39;00m \u001b[38;5;28misinstance\u001b[39m(query, \u001b[38;5;28mbytes\u001b[39m):\n\u001b[0;32m    489\u001b[0m     query \u001b[38;5;241m=\u001b[39m query\u001b[38;5;241m.\u001b[39mencode(\u001b[38;5;124m'\u001b[39m\u001b[38;5;124mutf-8\u001b[39m\u001b[38;5;124m'\u001b[39m)\n\u001b[1;32m--> 490\u001b[0m result \u001b[38;5;241m=\u001b[39m \u001b[38;5;28;43mself\u001b[39;49m\u001b[38;5;241;43m.\u001b[39;49m\u001b[43m_handle_result\u001b[49m\u001b[43m(\u001b[49m\u001b[38;5;28;43mself\u001b[39;49m\u001b[38;5;241;43m.\u001b[39;49m\u001b[43m_send_cmd\u001b[49m\u001b[43m(\u001b[49m\u001b[43mServerCmd\u001b[49m\u001b[38;5;241;43m.\u001b[39;49m\u001b[43mQUERY\u001b[49m\u001b[43m,\u001b[49m\u001b[43m \u001b[49m\u001b[43mquery\u001b[49m\u001b[43m)\u001b[49m\u001b[43m)\u001b[49m\n\u001b[0;32m    492\u001b[0m \u001b[38;5;28;01mif\u001b[39;00m \u001b[38;5;28mself\u001b[39m\u001b[38;5;241m.\u001b[39m_have_next_result:\n\u001b[0;32m    493\u001b[0m     \u001b[38;5;28;01mraise\u001b[39;00m errors\u001b[38;5;241m.\u001b[39mInterfaceError(\n\u001b[0;32m    494\u001b[0m         \u001b[38;5;124m'\u001b[39m\u001b[38;5;124mUse cmd_query_iter for statements with multiple queries.\u001b[39m\u001b[38;5;124m'\u001b[39m)\n",
      "File \u001b[1;32m~\\AppData\\Roaming\\Python\\Python310\\site-packages\\mysql\\connector\\connection.py:395\u001b[0m, in \u001b[0;36mMySQLConnection._handle_result\u001b[1;34m(self, packet)\u001b[0m\n\u001b[0;32m    393\u001b[0m     \u001b[38;5;28;01mreturn\u001b[39;00m \u001b[38;5;28mself\u001b[39m\u001b[38;5;241m.\u001b[39m_handle_eof(packet)\n\u001b[0;32m    394\u001b[0m \u001b[38;5;28;01melif\u001b[39;00m packet[\u001b[38;5;241m4\u001b[39m] \u001b[38;5;241m==\u001b[39m \u001b[38;5;241m255\u001b[39m:\n\u001b[1;32m--> 395\u001b[0m     \u001b[38;5;28;01mraise\u001b[39;00m errors\u001b[38;5;241m.\u001b[39mget_exception(packet)\n\u001b[0;32m    397\u001b[0m \u001b[38;5;66;03m# We have a text result set\u001b[39;00m\n\u001b[0;32m    398\u001b[0m column_count \u001b[38;5;241m=\u001b[39m \u001b[38;5;28mself\u001b[39m\u001b[38;5;241m.\u001b[39m_protocol\u001b[38;5;241m.\u001b[39mparse_column_count(packet)\n",
      "\u001b[1;31mProgrammingError\u001b[0m: 1050 (42S01): Table 'first_floor' already exists"
     ]
    }
   ],
   "source": [
    "import mysql.connector              #table creatoin in that database\n",
    "database = mysql.connector.connect(\n",
    "host = \"localhost\",\n",
    "user = \"root\",\n",
    "password = \"\",\n",
    "database = \"Unique_hostel\"\n",
    ")\n",
    "dc = database.cursor() #table name is \"first floor\"\n",
    "c_table = \"CREATE TABLE first_floor(s_id int(11) auto_increment,name varchar(40),address varchar(30),phone_no int(10))\"\n",
    "dc.execute(c_table)\n",
    "dc.close()"
   ]
  },
  {
   "cell_type": "code",
   "execution_count": 26,
   "id": "652acb60",
   "metadata": {},
   "outputs": [
    {
     "data": {
      "text/plain": [
       "True"
      ]
     },
     "execution_count": 26,
     "metadata": {},
     "output_type": "execute_result"
    }
   ],
   "source": [
    "import mysql.connector                 #insertion values in that table\n",
    "database = mysql.connector.connect(\n",
    "host = \"localhost\",\n",
    "user = \"root\",\n",
    "password = \"\",\n",
    "database = \"Unique_hostel\"\n",
    ")                                     \n",
    "dc = database.cursor()  #inserting into table \"first_floor\"\n",
    "insert = \"INSERT INTO first_floor VALUES(1,'Manish_sah','Janakpurdham',919852559)\"\n",
    "insert2 = \"INSERT INTO first_floor VALUES(2,'Anish sah','Nagarain-08',9819895384),(2,'rima sah','jhapa','nad@gmail.com')\"\n",
    "dc.execute(insert)\n",
    "dc.execute(insert2)\n",
    "database.commit()\n",
    "dc.close()"
   ]
  },
  {
   "cell_type": "code",
   "execution_count": 20,
   "id": "97b443c1",
   "metadata": {},
   "outputs": [
    {
     "name": "stdout",
     "output_type": "stream",
     "text": [
      "(1, 'Manish_sah', 'Janakpurdham', 919852559)\n",
      "(1, 'Manish_sah', 'Janakpurdham', 919852559)\n",
      "(1, 'Manish_sah', 'Janakpurdham', 919852559)\n",
      "(2, 'Anish sah', 'Nagarain-08', 2147483647)\n"
     ]
    },
    {
     "data": {
      "text/plain": [
       "True"
      ]
     },
     "execution_count": 20,
     "metadata": {},
     "output_type": "execute_result"
    }
   ],
   "source": [
    "import mysql.connector                 #selection or print values from that table\n",
    "database = mysql.connector.connect(\n",
    "host = \"localhost\",\n",
    "user = \"root\",\n",
    "password = \"\",\n",
    "database = \"Unique_hostel\"\n",
    ")                                     \n",
    "dc = database.cursor() \n",
    "selection = \"SELECT *FROM first_floor\"\n",
    "dc.execute(selection)\n",
    "result = dc.fetchall()\n",
    "for i in result:\n",
    "    print(i)\n",
    "database.commit()\n",
    "dc.close()"
   ]
  },
  {
   "cell_type": "code",
   "execution_count": null,
   "id": "772f87d8",
   "metadata": {},
   "outputs": [],
   "source": []
  },
  {
   "cell_type": "code",
   "execution_count": 1,
   "id": "3ef254cd",
   "metadata": {},
   "outputs": [
    {
     "data": {
      "text/plain": [
       "True"
      ]
     },
     "execution_count": 1,
     "metadata": {},
     "output_type": "execute_result"
    }
   ],
   "source": [
    "import mysql.connector              #UPDATE from tabel\n",
    "database = mysql.connector.connect(\n",
    "host = \"localhost\",\n",
    "user = \"root\",\n",
    "password = \"\",\n",
    "database = \"Unique_hostel\"\n",
    ")\n",
    "dc = database.cursor()              #table name is \"first floor\"\n",
    "update = \"UPDATE first_floor SET name ='rina',Address ='sarlahi' where s_id =2\"\n",
    "dc.execute(update)\n",
    "database.commit()\n",
    "dc.close()"
   ]
  },
  {
   "cell_type": "code",
   "execution_count": 2,
   "id": "598a8403",
   "metadata": {},
   "outputs": [
    {
     "name": "stdout",
     "output_type": "stream",
     "text": [
      "(1, 'Manish_sah', 'Janakpurdham', 919852559)\n",
      "(1, 'Manish_sah', 'Janakpurdham', 919852559)\n",
      "(1, 'Manish_sah', 'Janakpurdham', 919852559)\n",
      "(2, 'rina', 'sarlahi', 2147483647)\n",
      "(1, 'Manish_sah', 'Janakpurdham', 919852559)\n",
      "(2, 'rina', 'sarlahi', 2147483647)\n",
      "(2, 'rina', 'sarlahi', 0)\n",
      "(1, 'Manish_sah', 'Janakpurdham', 919852559)\n",
      "(2, 'rina', 'sarlahi', 2147483647)\n",
      "(2, 'rina', 'sarlahi', 0)\n"
     ]
    },
    {
     "data": {
      "text/plain": [
       "True"
      ]
     },
     "execution_count": 2,
     "metadata": {},
     "output_type": "execute_result"
    }
   ],
   "source": [
    "import mysql.connector                 #selection or print values from that table\n",
    "database = mysql.connector.connect(\n",
    "host = \"localhost\",\n",
    "user = \"root\",\n",
    "password = \"\",\n",
    "database = \"Unique_hostel\"\n",
    ")                                     \n",
    "dc = database.cursor() \n",
    "selection = \"SELECT *FROM first_floor\"\n",
    "dc.execute(selection)\n",
    "result = dc.fetchall()\n",
    "for i in result:\n",
    "    print(i)\n",
    "database.commit()\n",
    "dc.close()"
   ]
  }
 ],
 "metadata": {
  "kernelspec": {
   "display_name": "Python 3 (ipykernel)",
   "language": "python",
   "name": "python3"
  },
  "language_info": {
   "codemirror_mode": {
    "name": "ipython",
    "version": 3
   },
   "file_extension": ".py",
   "mimetype": "text/x-python",
   "name": "python",
   "nbconvert_exporter": "python",
   "pygments_lexer": "ipython3",
   "version": "3.10.9"
  }
 },
 "nbformat": 4,
 "nbformat_minor": 5
}
