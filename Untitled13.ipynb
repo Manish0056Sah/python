{
 "cells": [
  {
   "cell_type": "code",
   "execution_count": 1,
   "id": "1f37708a",
   "metadata": {},
   "outputs": [
    {
     "name": "stderr",
     "output_type": "stream",
     "text": [
      "C:\\Users\\ASUS\\AppData\\Local\\Temp\\ipykernel_12132\\2516764929.py:3: MarkupResemblesLocatorWarning: The input looks more like a URL than markup. You may want to use an HTTP client like requests to get the document behind the URL, and feed that document to Beautiful Soup.\n",
      "  url = BeautifulSoup(\"https://www.iplt20.com/auction/2020\", 'html.parser')\n"
     ]
    }
   ],
   "source": [
    "from bs4 import BeautifulSoup\n",
    "import requests\n",
    "url = BeautifulSoup(\"https://www.iplt20.com/auction/2020\", \"lxml\")\n",
    "soup = requests.get(url)\n",
    "soup\n",
    "raw_data = soup.text\n",
    "raw_data =BeautifulSoup(raw_data, \"lxml\")        \t#this data is in string format so we have to change this \n",
    "raw_data\n",
    "table_code = raw_data.table\n",
    "table_code\n",
    "tags=table_code.find_all('tr')\n",
    "tags\n",
    "data = []\n",
    "for tag in tags:\n",
    "    y=tag.text.split('\\n') \n",
    "    if y[1]!=\"\":\n",
    "        data.append(y)\n",
    "data\n",
    "import csv\n",
    "file = open('iplt20_data.csv','w')\n",
    "x= csv.writer(file)\n",
    "x.writerows(data)\n",
    "file.close()"
   ]
  }
 ],
 "metadata": {
  "kernelspec": {
   "display_name": "Python 3 (ipykernel)",
   "language": "python",
   "name": "python3"
  },
  "language_info": {
   "codemirror_mode": {
    "name": "ipython",
    "version": 3
   },
   "file_extension": ".py",
   "mimetype": "text/x-python",
   "name": "python",
   "nbconvert_exporter": "python",
   "pygments_lexer": "ipython3",
   "version": "3.10.9"
  }
 },
 "nbformat": 4,
 "nbformat_minor": 5
}
