{
 "cells": [
  {
   "cell_type": "code",
   "execution_count": 2,
   "id": "3b3c8bf5",
   "metadata": {},
   "outputs": [
    {
     "ename": "ModuleNotFoundError",
     "evalue": "No module named 'selenium'",
     "output_type": "error",
     "traceback": [
      "\u001b[1;31m---------------------------------------------------------------------------\u001b[0m",
      "\u001b[1;31mModuleNotFoundError\u001b[0m                       Traceback (most recent call last)",
      "Cell \u001b[1;32mIn[2], line 1\u001b[0m\n\u001b[1;32m----> 1\u001b[0m \u001b[38;5;28;01mfrom\u001b[39;00m \u001b[38;5;21;01mselenium\u001b[39;00m \u001b[38;5;28;01mimport\u001b[39;00m webdriver\n\u001b[0;32m      2\u001b[0m from\u001b[38;5;241m.\u001b[39mselenium\u001b[38;5;241m.\u001b[39mwebdriver\u001b[38;5;241m.\u001b[39mEdge\u001b[38;5;241m.\u001b[39mservice \u001b[38;5;28;01mimport\u001b[39;00m \u001b[38;5;21;01mService\u001b[39;00m\n\u001b[0;32m      3\u001b[0m s \u001b[38;5;241m=\u001b[39m Service(\u001b[38;5;124m\"\u001b[39m\u001b[38;5;124mC:/Users/ASUS/Desktop/edgedriver_win64\u001b[39m\u001b[38;5;124m\"\u001b[39m)\n",
      "\u001b[1;31mModuleNotFoundError\u001b[0m: No module named 'selenium'"
     ]
    }
   ],
   "source": [
    "\n",
    "from selenium import webdriver\n",
    "from.selenium.webdriver.Edge.service import Service\n",
    "s = Service(\"C:/Users/ASUS/Desktop/edgedriver_win64\")\n",
    "driver = Webdriver.Edge(service =s)\n",
    "driver.get(\"https://www.geeksforgeeks.org/\")"
   ]
  },
  {
   "cell_type": "code",
   "execution_count": 3,
   "id": "7257784f",
   "metadata": {},
   "outputs": [
    {
     "name": "stdout",
     "output_type": "stream",
     "text": [
      "Defaulting to user installation because normal site-packages is not writeable\n",
      "Collecting selenium\n",
      "  Using cached selenium-4.10.0-py3-none-any.whl (6.7 MB)\n",
      "Requirement already satisfied: certifi>=2021.10.8 in c:\\programdata\\anaconda3\\lib\\site-packages (from selenium) (2022.12.7)\n",
      "Collecting trio-websocket~=0.9\n",
      "  Using cached trio_websocket-0.10.3-py3-none-any.whl (17 kB)\n",
      "Requirement already satisfied: urllib3[socks]<3,>=1.26 in c:\\programdata\\anaconda3\\lib\\site-packages (from selenium) (1.26.14)\n",
      "Collecting trio~=0.17\n",
      "  Using cached trio-0.22.0-py3-none-any.whl (384 kB)\n",
      "Requirement already satisfied: cffi>=1.14 in c:\\programdata\\anaconda3\\lib\\site-packages (from trio~=0.17->selenium) (1.15.1)\n",
      "Collecting outcome\n",
      "  Using cached outcome-1.2.0-py2.py3-none-any.whl (9.7 kB)\n",
      "Requirement already satisfied: idna in c:\\programdata\\anaconda3\\lib\\site-packages (from trio~=0.17->selenium) (3.4)\n",
      "Requirement already satisfied: sortedcontainers in c:\\programdata\\anaconda3\\lib\\site-packages (from trio~=0.17->selenium) (2.4.0)\n",
      "Collecting exceptiongroup>=1.0.0rc9\n",
      "  Using cached exceptiongroup-1.1.1-py3-none-any.whl (14 kB)\n",
      "Requirement already satisfied: attrs>=19.2.0 in c:\\programdata\\anaconda3\\lib\\site-packages (from trio~=0.17->selenium) (22.1.0)\n",
      "Requirement already satisfied: sniffio in c:\\programdata\\anaconda3\\lib\\site-packages (from trio~=0.17->selenium) (1.2.0)\n",
      "Collecting async-generator>=1.9\n",
      "  Using cached async_generator-1.10-py3-none-any.whl (18 kB)\n",
      "Collecting wsproto>=0.14\n",
      "  Using cached wsproto-1.2.0-py3-none-any.whl (24 kB)\n",
      "Requirement already satisfied: PySocks!=1.5.7,<2.0,>=1.5.6 in c:\\programdata\\anaconda3\\lib\\site-packages (from urllib3[socks]<3,>=1.26->selenium) (1.7.1)\n",
      "Requirement already satisfied: pycparser in c:\\programdata\\anaconda3\\lib\\site-packages (from cffi>=1.14->trio~=0.17->selenium) (2.21)\n",
      "Collecting h11<1,>=0.9.0\n",
      "  Using cached h11-0.14.0-py3-none-any.whl (58 kB)\n",
      "Installing collected packages: outcome, h11, exceptiongroup, async-generator, wsproto, trio, trio-websocket, selenium\n",
      "Successfully installed async-generator-1.10 exceptiongroup-1.1.1 h11-0.14.0 outcome-1.2.0 selenium-4.10.0 trio-0.22.0 trio-websocket-0.10.3 wsproto-1.2.0\n"
     ]
    }
   ],
   "source": [
    "!pip install selenium"
   ]
  },
  {
   "cell_type": "code",
   "execution_count": 15,
   "id": "226f390c",
   "metadata": {},
   "outputs": [
    {
     "ename": "WebDriverException",
     "evalue": "Message: unknown error: net::ERR_INTERNET_DISCONNECTED\n  (Session info: MicrosoftEdge=114.0.1823.58)\nStacktrace:\nBacktrace:\n\tGetHandleVerifier [0x00007FF7B21DA8E2+64226]\n\tMicrosoft::Applications::Events::EventProperty::~EventProperty [0x00007FF7B216BAB2+771122]\n\t(No symbol) [0x00007FF7B1F2CC3C]\n\t(No symbol) [0x00007FF7B1F24CFA]\n\t(No symbol) [0x00007FF7B1F1956F]\n\t(No symbol) [0x00007FF7B1F1ABCF]\n\t(No symbol) [0x00007FF7B1F197DD]\n\t(No symbol) [0x00007FF7B1F18850]\n\t(No symbol) [0x00007FF7B1F187AC]\n\t(No symbol) [0x00007FF7B1F17033]\n\t(No symbol) [0x00007FF7B1F17796]\n\t(No symbol) [0x00007FF7B1F2EC56]\n\t(No symbol) [0x00007FF7B1FA8B61]\n\t(No symbol) [0x00007FF7B1F8EFEA]\n\t(No symbol) [0x00007FF7B1F64BA1]\n\t(No symbol) [0x00007FF7B1FA7FB1]\n\t(No symbol) [0x00007FF7B1F8EDC3]\n\t(No symbol) [0x00007FF7B1F63BDC]\n\t(No symbol) [0x00007FF7B1F62DC6]\n\t(No symbol) [0x00007FF7B1F64354]\n\tMicrosoft::Applications::Events::ILogManager::DispatchEventBroadcast [0x00007FF7B23B81E9+1319033]\n\t(No symbol) [0x00007FF7B1FDC048]\n\tMicrosoft::Applications::Events::EventProperty::~EventProperty [0x00007FF7B20B7991+33553]\n\tMicrosoft::Applications::Events::EventProperty::~EventProperty [0x00007FF7B20AFDCF+1871]\n\tMicrosoft::Applications::Events::ILogManager::DispatchEventBroadcast [0x00007FF7B23B6E03+1313939]\n\tMicrosoft::Applications::Events::ILogConfiguration::operator* [0x00007FF7B21740E8+20232]\n\tMicrosoft::Applications::Events::ILogConfiguration::operator* [0x00007FF7B2170704+5412]\n\tMicrosoft::Applications::Events::ILogConfiguration::operator* [0x00007FF7B21707FC+5660]\n\tMicrosoft::Applications::Events::EventProperty::~EventProperty [0x00007FF7B21644B1+740913]\n\tBaseThreadInitThunk [0x00007FFD56AE7614+20]\n\tRtlUserThreadStart [0x00007FFD587026F1+33]\n",
     "output_type": "error",
     "traceback": [
      "\u001b[1;31m---------------------------------------------------------------------------\u001b[0m",
      "\u001b[1;31mWebDriverException\u001b[0m                        Traceback (most recent call last)",
      "Cell \u001b[1;32mIn[15], line 5\u001b[0m\n\u001b[0;32m      3\u001b[0m s \u001b[38;5;241m=\u001b[39m Service(\u001b[38;5;124m\"\u001b[39m\u001b[38;5;124mC:/Users/ASUS/Desktop/edgedriver_win64\u001b[39m\u001b[38;5;124m\"\u001b[39m)\n\u001b[0;32m      4\u001b[0m driver \u001b[38;5;241m=\u001b[39m webdriver\u001b[38;5;241m.\u001b[39mEdge(service \u001b[38;5;241m=\u001b[39ms)\n\u001b[1;32m----> 5\u001b[0m \u001b[43mdriver\u001b[49m\u001b[38;5;241;43m.\u001b[39;49m\u001b[43mget\u001b[49m\u001b[43m(\u001b[49m\u001b[38;5;124;43m\"\u001b[39;49m\u001b[38;5;124;43mhttps://www.tutorialsfreak.com/\u001b[39;49m\u001b[38;5;124;43m\"\u001b[39;49m\u001b[43m)\u001b[49m\n\u001b[0;32m      6\u001b[0m driver\u001b[38;5;241m.\u001b[39mfind_element_by_xpath(\u001b[38;5;124m'''\u001b[39m\u001b[38;5;124m/html/body/div/div[2]/div/section[1]/div/div[1]/div/div/div/div[2]/button\u001b[39m\u001b[38;5;124m'''\u001b[39m)\u001b[38;5;241m.\u001b[39mclick()\n",
      "File \u001b[1;32m~\\AppData\\Roaming\\Python\\Python310\\site-packages\\selenium\\webdriver\\remote\\webdriver.py:355\u001b[0m, in \u001b[0;36mWebDriver.get\u001b[1;34m(self, url)\u001b[0m\n\u001b[0;32m    353\u001b[0m \u001b[38;5;28;01mdef\u001b[39;00m \u001b[38;5;21mget\u001b[39m(\u001b[38;5;28mself\u001b[39m, url: \u001b[38;5;28mstr\u001b[39m) \u001b[38;5;241m-\u001b[39m\u001b[38;5;241m>\u001b[39m \u001b[38;5;28;01mNone\u001b[39;00m:\n\u001b[0;32m    354\u001b[0m     \u001b[38;5;124;03m\"\"\"Loads a web page in the current browser session.\"\"\"\u001b[39;00m\n\u001b[1;32m--> 355\u001b[0m     \u001b[38;5;28;43mself\u001b[39;49m\u001b[38;5;241;43m.\u001b[39;49m\u001b[43mexecute\u001b[49m\u001b[43m(\u001b[49m\u001b[43mCommand\u001b[49m\u001b[38;5;241;43m.\u001b[39;49m\u001b[43mGET\u001b[49m\u001b[43m,\u001b[49m\u001b[43m \u001b[49m\u001b[43m{\u001b[49m\u001b[38;5;124;43m\"\u001b[39;49m\u001b[38;5;124;43murl\u001b[39;49m\u001b[38;5;124;43m\"\u001b[39;49m\u001b[43m:\u001b[49m\u001b[43m \u001b[49m\u001b[43murl\u001b[49m\u001b[43m}\u001b[49m\u001b[43m)\u001b[49m\n",
      "File \u001b[1;32m~\\AppData\\Roaming\\Python\\Python310\\site-packages\\selenium\\webdriver\\remote\\webdriver.py:346\u001b[0m, in \u001b[0;36mWebDriver.execute\u001b[1;34m(self, driver_command, params)\u001b[0m\n\u001b[0;32m    344\u001b[0m response \u001b[38;5;241m=\u001b[39m \u001b[38;5;28mself\u001b[39m\u001b[38;5;241m.\u001b[39mcommand_executor\u001b[38;5;241m.\u001b[39mexecute(driver_command, params)\n\u001b[0;32m    345\u001b[0m \u001b[38;5;28;01mif\u001b[39;00m response:\n\u001b[1;32m--> 346\u001b[0m     \u001b[38;5;28;43mself\u001b[39;49m\u001b[38;5;241;43m.\u001b[39;49m\u001b[43merror_handler\u001b[49m\u001b[38;5;241;43m.\u001b[39;49m\u001b[43mcheck_response\u001b[49m\u001b[43m(\u001b[49m\u001b[43mresponse\u001b[49m\u001b[43m)\u001b[49m\n\u001b[0;32m    347\u001b[0m     response[\u001b[38;5;124m\"\u001b[39m\u001b[38;5;124mvalue\u001b[39m\u001b[38;5;124m\"\u001b[39m] \u001b[38;5;241m=\u001b[39m \u001b[38;5;28mself\u001b[39m\u001b[38;5;241m.\u001b[39m_unwrap_value(response\u001b[38;5;241m.\u001b[39mget(\u001b[38;5;124m\"\u001b[39m\u001b[38;5;124mvalue\u001b[39m\u001b[38;5;124m\"\u001b[39m, \u001b[38;5;28;01mNone\u001b[39;00m))\n\u001b[0;32m    348\u001b[0m     \u001b[38;5;28;01mreturn\u001b[39;00m response\n",
      "File \u001b[1;32m~\\AppData\\Roaming\\Python\\Python310\\site-packages\\selenium\\webdriver\\remote\\errorhandler.py:245\u001b[0m, in \u001b[0;36mErrorHandler.check_response\u001b[1;34m(self, response)\u001b[0m\n\u001b[0;32m    243\u001b[0m         alert_text \u001b[38;5;241m=\u001b[39m value[\u001b[38;5;124m\"\u001b[39m\u001b[38;5;124malert\u001b[39m\u001b[38;5;124m\"\u001b[39m]\u001b[38;5;241m.\u001b[39mget(\u001b[38;5;124m\"\u001b[39m\u001b[38;5;124mtext\u001b[39m\u001b[38;5;124m\"\u001b[39m)\n\u001b[0;32m    244\u001b[0m     \u001b[38;5;28;01mraise\u001b[39;00m exception_class(message, screen, stacktrace, alert_text)  \u001b[38;5;66;03m# type: ignore[call-arg]  # mypy is not smart enough here\u001b[39;00m\n\u001b[1;32m--> 245\u001b[0m \u001b[38;5;28;01mraise\u001b[39;00m exception_class(message, screen, stacktrace)\n",
      "\u001b[1;31mWebDriverException\u001b[0m: Message: unknown error: net::ERR_INTERNET_DISCONNECTED\n  (Session info: MicrosoftEdge=114.0.1823.58)\nStacktrace:\nBacktrace:\n\tGetHandleVerifier [0x00007FF7B21DA8E2+64226]\n\tMicrosoft::Applications::Events::EventProperty::~EventProperty [0x00007FF7B216BAB2+771122]\n\t(No symbol) [0x00007FF7B1F2CC3C]\n\t(No symbol) [0x00007FF7B1F24CFA]\n\t(No symbol) [0x00007FF7B1F1956F]\n\t(No symbol) [0x00007FF7B1F1ABCF]\n\t(No symbol) [0x00007FF7B1F197DD]\n\t(No symbol) [0x00007FF7B1F18850]\n\t(No symbol) [0x00007FF7B1F187AC]\n\t(No symbol) [0x00007FF7B1F17033]\n\t(No symbol) [0x00007FF7B1F17796]\n\t(No symbol) [0x00007FF7B1F2EC56]\n\t(No symbol) [0x00007FF7B1FA8B61]\n\t(No symbol) [0x00007FF7B1F8EFEA]\n\t(No symbol) [0x00007FF7B1F64BA1]\n\t(No symbol) [0x00007FF7B1FA7FB1]\n\t(No symbol) [0x00007FF7B1F8EDC3]\n\t(No symbol) [0x00007FF7B1F63BDC]\n\t(No symbol) [0x00007FF7B1F62DC6]\n\t(No symbol) [0x00007FF7B1F64354]\n\tMicrosoft::Applications::Events::ILogManager::DispatchEventBroadcast [0x00007FF7B23B81E9+1319033]\n\t(No symbol) [0x00007FF7B1FDC048]\n\tMicrosoft::Applications::Events::EventProperty::~EventProperty [0x00007FF7B20B7991+33553]\n\tMicrosoft::Applications::Events::EventProperty::~EventProperty [0x00007FF7B20AFDCF+1871]\n\tMicrosoft::Applications::Events::ILogManager::DispatchEventBroadcast [0x00007FF7B23B6E03+1313939]\n\tMicrosoft::Applications::Events::ILogConfiguration::operator* [0x00007FF7B21740E8+20232]\n\tMicrosoft::Applications::Events::ILogConfiguration::operator* [0x00007FF7B2170704+5412]\n\tMicrosoft::Applications::Events::ILogConfiguration::operator* [0x00007FF7B21707FC+5660]\n\tMicrosoft::Applications::Events::EventProperty::~EventProperty [0x00007FF7B21644B1+740913]\n\tBaseThreadInitThunk [0x00007FFD56AE7614+20]\n\tRtlUserThreadStart [0x00007FFD587026F1+33]\n"
     ]
    }
   ],
   "source": [
    "\n",
    "from selenium import webdriver\n",
    "from selenium.webdriver.edge.service import Service\n",
    "s = Service(\"C:/Users/ASUS/Desktop/edgedriver_win64\")\n",
    "driver = webdriver.Edge(service =s)\n",
    "driver.get(\"https://www.tutorialsfreak.com/\")\n",
    "driver.find_element_by_xpath('''/html/body/div/div[2]/div/section[1]/div/div[1]/div/div/div/div[2]/button''').click()\n",
    "# driver.find_element_by_xpath('''/html/body/div[3]/div/div/div/div[2]/div[2]/div/div[1]/div[1]/div/div/a/div/div[1]/img''')"
   ]
  }
 ],
 "metadata": {
  "kernelspec": {
   "display_name": "Python 3 (ipykernel)",
   "language": "python",
   "name": "python3"
  },
  "language_info": {
   "codemirror_mode": {
    "name": "ipython",
    "version": 3
   },
   "file_extension": ".py",
   "mimetype": "text/x-python",
   "name": "python",
   "nbconvert_exporter": "python",
   "pygments_lexer": "ipython3",
   "version": "3.10.9"
  }
 },
 "nbformat": 4,
 "nbformat_minor": 5
}
