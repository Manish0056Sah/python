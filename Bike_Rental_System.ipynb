{
  "nbformat": 4,
  "nbformat_minor": 0,
  "metadata": {
    "colab": {
      "provenance": []
    },
    "kernelspec": {
      "name": "python3",
      "display_name": "Python 3"
    },
    "language_info": {
      "name": "python"
    }
  },
  "cells": [
    {
      "cell_type": "code",
      "execution_count": null,
      "metadata": {
        "colab": {
          "base_uri": "https://localhost:8080/"
        },
        "id": "0qjhmYjzKTgw",
        "outputId": "ecf70834-74ca-4b6a-95a1-a4c57ee3329b"
      },
      "outputs": [
        {
          "name": "stdout",
          "output_type": "stream",
          "text": [
            "\n",
            "  1 Display stocks\n",
            "  2 Rent bike/s\n",
            "  3 Exit\n",
            "  32\n",
            "Please enter a valid nnumber\n",
            "\n",
            "  1 Display stocks\n",
            "  2 Rent bike/s\n",
            "  3 Exit\n",
            "  2\n",
            "Enter the qty:---211\n",
            "Enter the value(less than stock)\n",
            "\n",
            "  1 Display stocks\n",
            "  2 Rent bike/s\n",
            "  3 Exit\n",
            "  2\n",
            "Enter the qty:---21\n",
            "Enter your full name:sdfd\n",
            "Enter your Address:sdfdf\n",
            "Enter your phone no:54\n",
            "*******************You're all done********************\n",
            "Total price  of 21 bike/s is/are: 2100\n",
            "Now total available bikes are: 79\n",
            "Your Name is: sdfd\n",
            "Your Address is: sdfdf\n",
            "Your phone no is: 54\n",
            "***********Thanks for use our services****************\n",
            "\n",
            "  1 Display stocks\n",
            "  2 Rent bike/s\n",
            "  3 Exit\n",
            "  3\n"
          ]
        }
      ],
      "source": [
        "class BikeShop:\n",
        "  def __init__(self,stock):\n",
        "            self.stock=stock\n",
        "  def displayBike(self):\n",
        "            print(\"Total Bikes:\",self.stock)\n",
        "  def rentforBike(self,qty,N,A,P):\n",
        "    if qty<=0:\n",
        "      print(\"Enter the positive number or greater than zero\")\n",
        "    elif qty>=self.stock:\n",
        "       print(\"Enter the value(less than stock)\")\n",
        "    else:\n",
        "      self.stock =self.stock-qty\n",
        "      print(\"*******************You're all done********************\")\n",
        "      print(f\"Total price  of {qty} bike/s is/are:\",qty*100)\n",
        "      print(\"Now total available bikes are:\",self.stock)\n",
        "      print(\"Your Name is:\",N)\n",
        "      print(\"Your Address is:\",A)\n",
        "      print(\"Your phone no is:\",P)\n",
        "      print(\"***********Thanks for use our services****************\")\n",
        "\n",
        "while True:\n",
        "  obj = BikeShop(100)\n",
        "  uc= int(input('''\n",
        "  1 Display stocks\n",
        "  2 Rent bike/s\n",
        "  3 Exit\n",
        "  '''))\n",
        "\n",
        "  if uc ==1:\n",
        "      obj.displayBike()\n",
        "  elif uc==2:\n",
        "        n = int(input(\"Enter the qty:---\"))\n",
        "        if n>0 and n<=100:\n",
        "          name = input(\"Enter your full name:\")\n",
        "          Address = input(\"Enter your Address:\")\n",
        "          Phone_no =int(input(\"Enter your phone no:\"))\n",
        "        obj.rentforBike(n,name,Address,Phone_no)\n",
        "  elif uc==3:\n",
        "      break\n",
        "  else:\n",
        "    print(\"Please enter a valid nnumber\")"
      ]
    }
  ]
}