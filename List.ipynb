{
 "cells": [
  {
   "cell_type": "code",
   "execution_count": 145,
   "id": "14344e16",
   "metadata": {},
   "outputs": [
    {
     "name": "stdout",
     "output_type": "stream",
     "text": [
      "5\n"
     ]
    }
   ],
   "source": [
    "# list is a mutable dataa types\n",
    "l = [2,4,6,\"manish\",[78,56,21,\"anish\",45,78],34.7]\n",
    "print(l.index(34.7))"
   ]
  },
  {
   "cell_type": "code",
   "execution_count": 12,
   "id": "eefa37e0",
   "metadata": {},
   "outputs": [
    {
     "name": "stdout",
     "output_type": "stream",
     "text": [
      "anish\n"
     ]
    }
   ],
   "source": [
    "print(l[4][3])"
   ]
  },
  {
   "cell_type": "code",
   "execution_count": 15,
   "id": "e98c630f",
   "metadata": {},
   "outputs": [
    {
     "name": "stdout",
     "output_type": "stream",
     "text": [
      "[2, 4, 6]\n"
     ]
    }
   ],
   "source": [
    "print(l[0:3])"
   ]
  },
  {
   "cell_type": "code",
   "execution_count": 17,
   "id": "1f325b54",
   "metadata": {},
   "outputs": [
    {
     "name": "stdout",
     "output_type": "stream",
     "text": [
      "[2, 6, [78, 56, 21, 'anish', 45, 78]]\n"
     ]
    }
   ],
   "source": [
    "print(l[0::2])"
   ]
  },
  {
   "cell_type": "code",
   "execution_count": 23,
   "id": "67407508",
   "metadata": {},
   "outputs": [
    {
     "name": "stdout",
     "output_type": "stream",
     "text": [
      "[34.7, [78, 56, 21, 'anish', 45, 78], 'manish', 6, 4, 2]\n"
     ]
    }
   ],
   "source": [
    "print(l[-1::-1]) # in decrement we also put the decrement value eg. -1 which is in last"
   ]
  },
  {
   "cell_type": "code",
   "execution_count": 26,
   "id": "af0a6311",
   "metadata": {},
   "outputs": [
    {
     "name": "stdout",
     "output_type": "stream",
     "text": [
      "manish 45\n"
     ]
    }
   ],
   "source": [
    "print(l[3],l[4][4])"
   ]
  },
  {
   "cell_type": "code",
   "execution_count": 29,
   "id": "290fc1bd",
   "metadata": {},
   "outputs": [],
   "source": [
    "#Iteration"
   ]
  },
  {
   "cell_type": "code",
   "execution_count": 44,
   "id": "5625bf7c",
   "metadata": {},
   "outputs": [
    {
     "name": "stdout",
     "output_type": "stream",
     "text": [
      "2\n",
      "4\n",
      "6\n",
      "manish\n",
      "[78, 56, 21, 'anish', 45, 78]\n",
      "34.7\n"
     ]
    }
   ],
   "source": [
    "# t = len(l)\n",
    "# t\n",
    "# print(len(l))\n",
    "for n in range(len(l)):\n",
    "    print(l[n])"
   ]
  },
  {
   "cell_type": "code",
   "execution_count": 48,
   "id": "b406ba39",
   "metadata": {},
   "outputs": [
    {
     "name": "stdout",
     "output_type": "stream",
     "text": [
      "[2, 4, 6, 'manish', [78, 56, 21, 'anish', 45, 78], 34.7]\n",
      "[2, 4, 6, 'manish', [78, 56, 21, 'anish', 45, 78], 34.7]\n",
      "[2, 4, 6, 'manish', [78, 56, 21, 'anish', 45, 78], 34.7]\n",
      "[2, 4, 6, 'manish', [78, 56, 21, 'anish', 45, 78], 34.7]\n",
      "[2, 4, 6, 'manish', [78, 56, 21, 'anish', 45, 78], 34.7]\n",
      "[2, 4, 6, 'manish', [78, 56, 21, 'anish', 45, 78], 34.7]\n"
     ]
    }
   ],
   "source": [
    "for i in l:\n",
    "    print(l)"
   ]
  },
  {
   "cell_type": "code",
   "execution_count": 50,
   "id": "7c33d723",
   "metadata": {},
   "outputs": [
    {
     "name": "stdout",
     "output_type": "stream",
     "text": [
      "2\n",
      "4\n",
      "6\n",
      "manish\n",
      "[78, 56, 21, 'anish', 45, 78]\n",
      "34.7\n"
     ]
    }
   ],
   "source": [
    "for i in l:\n",
    "    print(i)"
   ]
  },
  {
   "cell_type": "code",
   "execution_count": 54,
   "id": "d1a4c487",
   "metadata": {},
   "outputs": [
    {
     "name": "stdout",
     "output_type": "stream",
     "text": [
      "34.7\n",
      "[78, 56, 21, 'anish', 45, 78]\n",
      "manish\n",
      "6\n",
      "4\n",
      "2\n"
     ]
    }
   ],
   "source": [
    "for i in range(t-1,-1,-1):\n",
    "    print(l[i])"
   ]
  },
  {
   "cell_type": "code",
   "execution_count": 55,
   "id": "13c925e4",
   "metadata": {},
   "outputs": [],
   "source": [
    "# list delete function"
   ]
  },
  {
   "cell_type": "code",
   "execution_count": 63,
   "id": "46f84068",
   "metadata": {},
   "outputs": [
    {
     "name": "stdout",
     "output_type": "stream",
     "text": [
      "[4, 6, 'manish', [78, 56, 21, 'anish', 45, 78], 34.7]\n"
     ]
    }
   ],
   "source": [
    "l = [2,4,6,\"manish\",[78,56,21,\"anish\",45,78],34.7]\n",
    "del l[0]  #del keyword delete the value through index number \n",
    "print(l)"
   ]
  },
  {
   "cell_type": "code",
   "execution_count": 71,
   "id": "0f9081dd",
   "metadata": {},
   "outputs": [
    {
     "name": "stdout",
     "output_type": "stream",
     "text": [
      "[2, 6, 'manish', [78, 56, 21, 'anish', 45, 78], 34.7]\n"
     ]
    }
   ],
   "source": [
    "l = [2,4,6,\"manish\",[78,56,21,\"anish\",45,78],34.7]\n",
    "l.pop(1) # pop function also delete the value through index number\n",
    "print(l)"
   ]
  },
  {
   "cell_type": "code",
   "execution_count": 72,
   "id": "5f448948",
   "metadata": {},
   "outputs": [
    {
     "name": "stdout",
     "output_type": "stream",
     "text": [
      "[2, 4, 6, [78, 56, 21, 'anish', 45, 78], 34.7]\n"
     ]
    }
   ],
   "source": [
    "l = [2,4,6,\"manish\",[78,56,21,\"anish\",45,78],34.7]\n",
    "l.remove(\"manish\")     #remove function delete the value through value not by index number\n",
    "print(l)"
   ]
  },
  {
   "cell_type": "code",
   "execution_count": 77,
   "id": "8eba32a9",
   "metadata": {},
   "outputs": [
    {
     "name": "stdout",
     "output_type": "stream",
     "text": [
      "[]\n"
     ]
    }
   ],
   "source": [
    "l = [2,4,6,\"manish\",[78,56,21,\"anish\",45,78],34.7]\n",
    "l.clear()\n",
    "print(l)"
   ]
  },
  {
   "cell_type": "code",
   "execution_count": 78,
   "id": "6e5d7edd",
   "metadata": {},
   "outputs": [],
   "source": [
    "#update functions in list"
   ]
  },
  {
   "cell_type": "code",
   "execution_count": 80,
   "id": "540ef212",
   "metadata": {},
   "outputs": [
    {
     "name": "stdout",
     "output_type": "stream",
     "text": [
      "2\n"
     ]
    }
   ],
   "source": [
    "l = [2,4,6,\"manish\",[78,56,21,\"anish\",45,78],34.7]\n",
    "print(l[0])"
   ]
  },
  {
   "cell_type": "code",
   "execution_count": 82,
   "id": "45ff980b",
   "metadata": {},
   "outputs": [
    {
     "name": "stdout",
     "output_type": "stream",
     "text": [
      "[10, 10, 2, 4, 6, 'manish', [78, 56, 21, 'anish', 45, 78], 34.7]\n"
     ]
    }
   ],
   "source": [
    "l.insert(0,10)   # insert function gives the two value 1st is index no. and 2nd is value of that index and index must not be greater than list\n",
    "print(l)"
   ]
  },
  {
   "cell_type": "code",
   "execution_count": 84,
   "id": "9a7f4234",
   "metadata": {},
   "outputs": [
    {
     "name": "stdout",
     "output_type": "stream",
     "text": [
      "[10, 10, 2, 4, 6, 'manish', [78, 56, 21, 'anish', 45, 78], 34.7, 55, 55]\n"
     ]
    }
   ],
   "source": [
    "l.append(55)        #append function  just append the value in the last\n",
    "print(l)"
   ]
  },
  {
   "cell_type": "code",
   "execution_count": 88,
   "id": "e4a78ce2",
   "metadata": {},
   "outputs": [
    {
     "name": "stdout",
     "output_type": "stream",
     "text": [
      "[10, 10, 2, 4, 6, 'manish', [78, 56, 21, 'anish', 45, 78], 34.7, 55, 55, ['rima', 'debendra'], ['rima', 'debendra'], ['rima', 'debendra']]\n"
     ]
    }
   ],
   "source": [
    "m= [\"rima\",\"debendra\"]\n",
    "l.append(m)\n",
    "print(l)"
   ]
  },
  {
   "cell_type": "code",
   "execution_count": 92,
   "id": "8cc6bef9",
   "metadata": {},
   "outputs": [
    {
     "name": "stdout",
     "output_type": "stream",
     "text": [
      "[10, 10, 2, 4, 6, 'manish', [78, 56, 21, 'anish', 45, 78], 34.7, 55, 55, ['rima', 'debendra'], ['rima', 'debendra'], ['rima', 'debendra'], ['dev'], 'dev', 'dev', 'dev']\n"
     ]
    }
   ],
   "source": [
    "l.append('dev')    # i'm going to run it 4 time so it's print the value \"dev \" 4 time\n",
    "print(l)"
   ]
  },
  {
   "cell_type": "code",
   "execution_count": 98,
   "id": "7b6cbe7f",
   "metadata": {},
   "outputs": [
    {
     "name": "stdout",
     "output_type": "stream",
     "text": [
      "[10, 10, 2, 4, 6, 'manish', [78, 56, 21, 'anish', 45, 78], 34.7, 55, 55, ['rima', 'debendra'], ['rima', 'debendra'], ['rima', 'debendra'], ['dev'], 'dev', 'dev', 'dev', 'ajmer', 39, 'ajmer', 39, 'ajmer', 39]\n"
     ]
    }
   ],
   "source": [
    "n=[\"ajmer\",39]\n",
    "l.extend(n)              # i run it 3 time so it inseert value 3 time\n",
    "print(l)"
   ]
  },
  {
   "cell_type": "code",
   "execution_count": 100,
   "id": "9ae93790",
   "metadata": {},
   "outputs": [
    {
     "name": "stdout",
     "output_type": "stream",
     "text": [
      "[10, 10, 2, 4, 6, 'manish', [78, 56, 21, 'anish', 45, 78], 34.7, 55, 55, ['rima', 'debendra'], ['rima', 'debendra'], ['rima', 'debendra'], ['dev'], 'dev', 'dev', 'dev', 'ajmer', 39, 'ajmer', 39, 'ajmer', 39, 'ramesh', 677, 'ramesh', 677]\n"
     ]
    }
   ],
   "source": [
    "l.extend([\"ramesh\",677])\n",
    "print(l)      # i run it twice"
   ]
  },
  {
   "cell_type": "code",
   "execution_count": 101,
   "id": "d8f12625",
   "metadata": {},
   "outputs": [],
   "source": [
    "#Some extra function"
   ]
  },
  {
   "cell_type": "code",
   "execution_count": 103,
   "id": "92bdf2b5",
   "metadata": {},
   "outputs": [
    {
     "name": "stdout",
     "output_type": "stream",
     "text": [
      "3\n"
     ]
    }
   ],
   "source": [
    "#count    we also do like:->  a = l.count(\"dev\")   then print(a)\n",
    "print(l.count(\"dev\")) # return the value you want to find how much times repeated this value"
   ]
  },
  {
   "cell_type": "code",
   "execution_count": 108,
   "id": "63215ef4",
   "metadata": {},
   "outputs": [
    {
     "name": "stdout",
     "output_type": "stream",
     "text": [
      "max vlaue is : 289\n",
      "min value is: 3\n"
     ]
    }
   ],
   "source": [
    "#min(),max()\n",
    "l=[34,56,78,3,289]\n",
    "print(\"max vlaue is :\",max(l))\n",
    "print(\"min value is:\",min(l))"
   ]
  },
  {
   "cell_type": "code",
   "execution_count": 110,
   "id": "4c4bf94b",
   "metadata": {},
   "outputs": [
    {
     "name": "stdout",
     "output_type": "stream",
     "text": [
      "max value is : ram\n",
      "min value is: anish\n"
     ]
    }
   ],
   "source": [
    "l = [\"manish\",\"anish\",\"ram\",\"janaki\"]    # in string min and max found by first letter\n",
    "print(\"max value is :\",max(l))\n",
    "print(\"min value is:\",min(l))"
   ]
  },
  {
   "cell_type": "code",
   "execution_count": 113,
   "id": "e123cfb8",
   "metadata": {},
   "outputs": [
    {
     "name": "stdout",
     "output_type": "stream",
     "text": [
      "['anish', 'janaki', 'manish', 'ram']\n"
     ]
    }
   ],
   "source": [
    "l.sort()  # sorting by first letter of every words\n",
    "print(l)"
   ]
  },
  {
   "cell_type": "code",
   "execution_count": 115,
   "id": "22763570",
   "metadata": {},
   "outputs": [
    {
     "name": "stdout",
     "output_type": "stream",
     "text": [
      "['anish', 'janaki', 'manish', 'ram']\n"
     ]
    }
   ],
   "source": [
    "l.reverse()\n",
    "print(l)"
   ]
  },
  {
   "cell_type": "code",
   "execution_count": 124,
   "id": "988a472c",
   "metadata": {},
   "outputs": [
    {
     "name": "stdout",
     "output_type": "stream",
     "text": [
      "1\n"
     ]
    }
   ],
   "source": [
    "l = [12,45,67,634,7,78]\n",
    "m = l.index(45)\n",
    "print(m)"
   ]
  },
  {
   "cell_type": "code",
   "execution_count": 126,
   "id": "75f2195f",
   "metadata": {},
   "outputs": [
    {
     "name": "stdout",
     "output_type": "stream",
     "text": [
      "12 manish\n",
      "45 anish\n",
      "67 ram\n",
      "634 janaki\n"
     ]
    }
   ],
   "source": [
    "#Zip function means how to print two list at same time\n",
    "# 1)solution\n",
    "l1 = [12,45,67,634,7,78]\n",
    "l2 = [\"manish\",\"anish\",\"ram\",\"janaki\"]     #It print equally means same index number\n",
    "for a,b in zip(l1,l2):\n",
    "    print(a,b)"
   ]
  },
  {
   "cell_type": "code",
   "execution_count": 136,
   "id": "22d41e89",
   "metadata": {},
   "outputs": [
    {
     "name": "stdout",
     "output_type": "stream",
     "text": [
      "12 manish\n",
      "45 anish\n",
      "67 ram\n",
      "634 janaki\n"
     ]
    },
    {
     "ename": "IndexError",
     "evalue": "list index out of range",
     "output_type": "error",
     "traceback": [
      "\u001b[1;31m---------------------------------------------------------------------------\u001b[0m",
      "\u001b[1;31mIndexError\u001b[0m                                Traceback (most recent call last)",
      "Cell \u001b[1;32mIn[136], line 5\u001b[0m\n\u001b[0;32m      3\u001b[0m t1 \u001b[38;5;241m=\u001b[39m \u001b[38;5;28mlen\u001b[39m(l2)\n\u001b[0;32m      4\u001b[0m \u001b[38;5;28;01mfor\u001b[39;00m i \u001b[38;5;129;01min\u001b[39;00m \u001b[38;5;28mrange\u001b[39m(t):\n\u001b[1;32m----> 5\u001b[0m     \u001b[38;5;28mprint\u001b[39m(l1[i],\u001b[43ml2\u001b[49m\u001b[43m[\u001b[49m\u001b[43mi\u001b[49m\u001b[43m]\u001b[49m)\n",
      "\u001b[1;31mIndexError\u001b[0m: list index out of range"
     ]
    }
   ],
   "source": [
    "# 2)solution\n",
    "t = len(l1)\n",
    "t1 = len(l2)\n",
    "for i in range(t):\n",
    "    print(l1[i],l2[i])"
   ]
  },
  {
   "cell_type": "code",
   "execution_count": 139,
   "id": "5b2a12d8",
   "metadata": {},
   "outputs": [
    {
     "name": "stdout",
     "output_type": "stream",
     "text": [
      "Enter the stringMy name is manish. I am from Nepal. I love fooding.\n",
      "['My name is manish', ' I am from Nepal', ' I love fooding', '']\n"
     ]
    }
   ],
   "source": [
    "#Converting string to list\n",
    "n = input(\"Enter the string\")\n",
    "l = n.split(\".\")          # it split the string from space by default but now it split from \".\"\n",
    "print(l)"
   ]
  },
  {
   "cell_type": "code",
   "execution_count": 144,
   "id": "4a6597c2",
   "metadata": {},
   "outputs": [
    {
     "name": "stdout",
     "output_type": "stream",
     "text": [
      "enter the nth time you want to add3\n",
      "enter the value you want to addmanish\n",
      "enter the value you want to addanish\n",
      "enter the value you want to addrima\n",
      "['manish', 'anish', 'rima']\n"
     ]
    }
   ],
   "source": [
    "l = []\n",
    "n = int(input(\"enter the nth time you want to add\"))     # because of intger value we add range())\n",
    "for i in range(n):\n",
    "    d = input(\"enter the value you want to add\")\n",
    "    l.append(d)\n",
    "print(l)"
   ]
  },
  {
   "cell_type": "code",
   "execution_count": null,
   "id": "a9870fe1",
   "metadata": {},
   "outputs": [],
   "source": []
  }
 ],
 "metadata": {
  "kernelspec": {
   "display_name": "Python 3 (ipykernel)",
   "language": "python",
   "name": "python3"
  },
  "language_info": {
   "codemirror_mode": {
    "name": "ipython",
    "version": 3
   },
   "file_extension": ".py",
   "mimetype": "text/x-python",
   "name": "python",
   "nbconvert_exporter": "python",
   "pygments_lexer": "ipython3",
   "version": "3.10.9"
  }
 },
 "nbformat": 4,
 "nbformat_minor": 5
}
