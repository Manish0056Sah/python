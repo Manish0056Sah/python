{
 "cells": [
  {
   "cell_type": "code",
   "execution_count": 1,
   "id": "822bf8aa",
   "metadata": {},
   "outputs": [
    {
     "name": "stdout",
     "output_type": "stream",
     "text": [
      "Defaulting to user installation because normal site-packages is not writeable\n",
      "Collecting phonenumbers\n",
      "  Downloading phonenumbers-8.13.14-py2.py3-none-any.whl (2.6 MB)\n",
      "     ---------------------------------------- 2.6/2.6 MB 826.2 kB/s eta 0:00:00\n",
      "Installing collected packages: phonenumbers\n",
      "Successfully installed phonenumbers-8.13.14\n"
     ]
    }
   ],
   "source": [
    "!pip install phonenumbers"
   ]
  },
  {
   "cell_type": "code",
   "execution_count": 5,
   "id": "cba930e0",
   "metadata": {},
   "outputs": [
    {
     "name": "stdout",
     "output_type": "stream",
     "text": [
      "Enter you number starting with +977:-+9779819895384\n",
      "Country Code: 977 National Number: 9819895384\n",
      "('Asia/Katmandu',)\n",
      "NCell\n",
      "Nepal\n"
     ]
    }
   ],
   "source": [
    "import phonenumbers \n",
    "from phonenumbers import timezone,geocoder,carrier\n",
    "number= input(\"Enter you number starting with +977:-\")\n",
    "phone = phonenumbers.parse(number)\n",
    "time = timezone.time_zones_for_number(phone)\n",
    "car=carrier.name_for_number(phone,\"en\")\n",
    "reg = geocoder.description_for_number(phone,\"en\")\n",
    "print(phone)\n",
    "print(time)\n",
    "print(car)\n",
    "print(reg)"
   ]
  }
 ],
 "metadata": {
  "kernelspec": {
   "display_name": "Python 3 (ipykernel)",
   "language": "python",
   "name": "python3"
  },
  "language_info": {
   "codemirror_mode": {
    "name": "ipython",
    "version": 3
   },
   "file_extension": ".py",
   "mimetype": "text/x-python",
   "name": "python",
   "nbconvert_exporter": "python",
   "pygments_lexer": "ipython3",
   "version": "3.10.9"
  }
 },
 "nbformat": 4,
 "nbformat_minor": 5
}
