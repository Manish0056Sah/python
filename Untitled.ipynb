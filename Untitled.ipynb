{
 "cells": [
  {
   "cell_type": "code",
   "execution_count": 1,
   "id": "36b798e5",
   "metadata": {},
   "outputs": [
    {
     "name": "stdout",
     "output_type": "stream",
     "text": [
      "My name is khan\n"
     ]
    }
   ],
   "source": [
    "print(\"My name is khan\")"
   ]
  },
  {
   "cell_type": "code",
   "execution_count": 5,
   "id": "22066065",
   "metadata": {},
   "outputs": [
    {
     "name": "stdout",
     "output_type": "stream",
     "text": [
      "Hello world\n",
      "ManishSah\n"
     ]
    }
   ],
   "source": [
    "print(\"Hello world\")\n",
    "a=\"Manish\"\n",
    "b=\"Sah\"\n",
    "print(a + b)"
   ]
  },
  {
   "cell_type": "code",
   "execution_count": 7,
   "id": "458222be",
   "metadata": {
    "scrolled": true
   },
   "outputs": [
    {
     "data": {
      "text/plain": [
       "bool"
      ]
     },
     "execution_count": 7,
     "metadata": {},
     "output_type": "execute_result"
    }
   ],
   "source": [
    "a=True\n",
    "type(a)"
   ]
  },
  {
   "cell_type": "code",
   "execution_count": 9,
   "id": "41ed2a9c",
   "metadata": {},
   "outputs": [
    {
     "name": "stdout",
     "output_type": "stream",
     "text": [
      "26\n"
     ]
    }
   ],
   "source": [
    "m=\"i am always be your friend\"\n",
    "print(len(m))"
   ]
  },
  {
   "cell_type": "code",
   "execution_count": 11,
   "id": "716920d6",
   "metadata": {},
   "outputs": [
    {
     "name": "stdout",
     "output_type": "stream",
     "text": [
      "i\n",
      "s\n"
     ]
    }
   ],
   "source": [
    "print(m[0])\n",
    "print(m[10])"
   ]
  },
  {
   "cell_type": "code",
   "execution_count": null,
   "id": "2f17ebc0",
   "metadata": {},
   "outputs": [],
   "source": [
    "print(m[s])"
   ]
  }
 ],
 "metadata": {
  "kernelspec": {
   "display_name": "Python 3 (ipykernel)",
   "language": "python",
   "name": "python3"
  },
  "language_info": {
   "codemirror_mode": {
    "name": "ipython",
    "version": 3
   },
   "file_extension": ".py",
   "mimetype": "text/x-python",
   "name": "python",
   "nbconvert_exporter": "python",
   "pygments_lexer": "ipython3",
   "version": "3.10.9"
  }
 },
 "nbformat": 4,
 "nbformat_minor": 5
}
