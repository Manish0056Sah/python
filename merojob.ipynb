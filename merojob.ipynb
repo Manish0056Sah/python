{
 "cells": [
  {
   "cell_type": "code",
   "execution_count": 20,
   "id": "f426e0a8",
   "metadata": {},
   "outputs": [
    {
     "name": "stdout",
     "output_type": "stream",
     "text": [
      "None\n"
     ]
    },
    {
     "ename": "TypeError",
     "evalue": "'NoneType' object is not iterable",
     "output_type": "error",
     "traceback": [
      "\u001b[1;31m---------------------------------------------------------------------------\u001b[0m",
      "\u001b[1;31mTypeError\u001b[0m                                 Traceback (most recent call last)",
      "Cell \u001b[1;32mIn[20], line 20\u001b[0m\n\u001b[0;32m     18\u001b[0m \u001b[38;5;28mprint\u001b[39m(prices)\n\u001b[0;32m     19\u001b[0m Prices \u001b[38;5;241m=\u001b[39m []\n\u001b[1;32m---> 20\u001b[0m \u001b[38;5;28;01mfor\u001b[39;00m i \u001b[38;5;129;01min\u001b[39;00m prices:\n\u001b[0;32m     21\u001b[0m     p \u001b[38;5;241m=\u001b[39m i\u001b[38;5;241m.\u001b[39mtext\n\u001b[0;32m     22\u001b[0m     Prices\u001b[38;5;241m.\u001b[39mappend(p)\n",
      "\u001b[1;31mTypeError\u001b[0m: 'NoneType' object is not iterable"
     ]
    }
   ],
   "source": [
    "import requests\n",
    "from bs4 import BeautifulSoup\n",
    "import pandas as pd\n",
    "\n",
    "url  = \"https://www.alibaba.com/trade/search?spm=a2700.product_home_l0.category_nav.category_popup&CatId=100010620&SearchText=Nail+Tools&language=en&indexArea=product_en\"\n",
    "r = requests.get(url)\n",
    "soup = BeautifulSoup(r.text,\"lxml\")\n",
    "name = soup.find_all(\"p\",class_=\"elements-title-normal__content large\")\n",
    "# print(name)\n",
    "Product_name = []\n",
    "for i in name:\n",
    "    n = i.text\n",
    "    Product_name.append(n)\n",
    "#     print(Product_name)\n",
    "\n",
    "box = soup.find_all(\"div\",class_=\"app-organic-search l-main-wrap J-p4p-container\")\n",
    "prices = soup.find(\"span\",class_=\"elements-offer-price-normal__price\")\n",
    "print(prices)\n",
    "Prices = []\n",
    "for i in prices:\n",
    "    p = i.text.split()\n",
    "    Prices.append(p)\n",
    "    print(Prices)"
   ]
  }
 ],
 "metadata": {
  "kernelspec": {
   "display_name": "Python 3 (ipykernel)",
   "language": "python",
   "name": "python3"
  },
  "language_info": {
   "codemirror_mode": {
    "name": "ipython",
    "version": 3
   },
   "file_extension": ".py",
   "mimetype": "text/x-python",
   "name": "python",
   "nbconvert_exporter": "python",
   "pygments_lexer": "ipython3",
   "version": "3.10.9"
  }
 },
 "nbformat": 4,
 "nbformat_minor": 5
}
