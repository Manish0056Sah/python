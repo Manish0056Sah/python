{
 "cells": [
  {
   "cell_type": "code",
   "execution_count": 20,
   "id": "c4a6cdb0",
   "metadata": {},
   "outputs": [
    {
     "name": "stdout",
     "output_type": "stream",
     "text": [
      "This table is already exist\n"
     ]
    }
   ],
   "source": [
    "import mysql.connector\n",
    "database = mysql.connector.connect(\n",
    "    host = \"localhost\",\n",
    "    user = \"root\",\n",
    "    password = \"\",\n",
    "    database = \"brosdway_python\"\n",
    ")\n",
    "db =database.cursor()\n",
    "try:\n",
    "    m = \"CREATE TABLE result(name varchar(30),physics int(3),chemistry int(3),math int(3),english int(3),nepali int(3),total float(5),per float(5),grade varchar(5))\"\n",
    "    db.execute(m)\n",
    "    database.commit()\n",
    "except:\n",
    "    print(\"This table is already exist\")"
   ]
  },
  {
   "cell_type": "code",
   "execution_count": 6,
   "id": "f7cb3e0e",
   "metadata": {},
   "outputs": [
    {
     "name": "stdout",
     "output_type": "stream",
     "text": [
      "Enter the nth time you enter the data:5\n",
      "enter your nameAjmer eqbal\n",
      "Enter the value of physics:-44\n",
      "Enter the value of chemistry:-55\n",
      "Enter the value of math:-66\n",
      "enter the value of english:-77\n",
      "Enter the value of nepali:-88\n",
      "INSERT INTO result VALUES('Ajmer eqbal','44','55','66','77','88','330','66.0','B')\n",
      "enter your nameKrishana Sah\n",
      "Enter the value of physics:-45\n",
      "Enter the value of chemistry:-56\n",
      "Enter the value of math:-36\n",
      "enter the value of english:-71\n",
      "Enter the value of nepali:-82\n",
      "INSERT INTO result VALUES('Krishana Sah','45','56','36','71','82','290','58.0','C')\n",
      "enter your nameKamlesh Mukhiya\n",
      "Enter the value of physics:-87\n",
      "Enter the value of chemistry:-76\n",
      "Enter the value of math:-65\n",
      "enter the value of english:-54\n",
      "Enter the value of nepali:-43\n",
      "INSERT INTO result VALUES('Kamlesh Mukhiya','87','76','65','54','43','325','65.0','B')\n",
      "enter your nameGovind Sharma\n",
      "Enter the value of physics:-77\n",
      "Enter the value of chemistry:-87\n",
      "Enter the value of math:-65\n",
      "enter the value of english:-45\n",
      "Enter the value of nepali:-91\n",
      "INSERT INTO result VALUES('Govind Sharma','77','87','65','45','91','365','73.0','B')\n",
      "enter your nameLalit Thakur\n",
      "Enter the value of physics:-88\n",
      "Enter the value of chemistry:-81\n",
      "Enter the value of math:-76\n",
      "enter the value of english:-69\n",
      "Enter the value of nepali:-70\n",
      "INSERT INTO result VALUES('Lalit Thakur','88','81','76','69','70','384','76.8','B')\n"
     ]
    }
   ],
   "source": [
    "import mysql.connector          #INSERT DATA\n",
    "\n",
    "import mysql.connector\n",
    "database = mysql.connector.connect(\n",
    "    host = \"localhost\",\n",
    "    user = \"root\",\n",
    "    password = \"\",\n",
    "    database = \"brosdway_python\"\n",
    ")\n",
    "db =database.cursor()\n",
    "n = int(input(\"Enter the nth time you enter the data:\"))\n",
    "for i in range(n):\n",
    "    name = input(\"enter your name\")\n",
    "    physics = int(input(\"Enter the value of physics:-\"))\n",
    "    chemistry = int(input(\"Enter the value of chemistry:-\"))\n",
    "    math = int(input(\"Enter the value of math:-\"))\n",
    "    english = int(input(\"enter the value of english:-\"))\n",
    "    nepali = int(input(\"Enter the value of nepali:-\"))\n",
    "    if physics>=32 and chemistry>=32 and math>=32 and english>=32 and nepali>=32:\n",
    "        total = physics+chemistry+math+english+nepali\n",
    "        per = total/5\n",
    "        if per>80:\n",
    "            grade =\"A\"\n",
    "        elif per>60:\n",
    "            grade = \"B\"\n",
    "        elif per>45:\n",
    "            grade = \"C\"\n",
    "        elif per>32:\n",
    "            grade = \"D\"\n",
    "        else:\n",
    "            grade = \"F\"\n",
    "\n",
    "        n = f'''INSERT INTO result VALUES('{name}','{physics}','{chemistry}','{math}','{english}','{nepali}','{total}','{per}','{grade}')'''\n",
    "    #     c = \"INSERT INTO student('manish',34,45,56,67,78,280,56,'C')\"\n",
    "        print(n)\n",
    "        db.execute(n)\n",
    "        database.commit()\n",
    "    #     db.close()\n",
    "\n",
    "    else:\n",
    "        print(\"you are failed\")"
   ]
  },
  {
   "cell_type": "code",
   "execution_count": 10,
   "id": "c3cc8f10",
   "metadata": {},
   "outputs": [
    {
     "name": "stdout",
     "output_type": "stream",
     "text": [
      "('MANISH', 34, 45, 56, 67, 78, 280.0, 56.0, 'C')\n",
      "('Anish', 44, 54, 45, 76, 78, 297.0, 59.4, 'C')\n",
      "('Rima', 65, 67, 68, 87, 45, 332.0, 66.4, 'B')\n",
      "('Rahul', 34, 66, 87, 82, 74, 343.0, 68.6, 'B')\n",
      "('Jay Kumar paswan', 56, 55, 71, 81, 48, 311.0, 62.2, 'B')\n",
      "('Chandani Sah', 34, 51, 63, 79, 76, 303.0, 60.6, 'B')\n",
      "('Anjali Sah', 54, 51, 66, 68, 91, 330.0, 66.0, 'B')\n",
      "('Ajmer eqbal', 44, 55, 66, 77, 88, 330.0, 66.0, 'B')\n",
      "('Krishana Sah', 45, 56, 36, 71, 82, 290.0, 58.0, 'C')\n",
      "('Kamlesh Mukhiya', 87, 76, 65, 54, 43, 325.0, 65.0, 'B')\n",
      "('Govind Sharma', 77, 87, 65, 45, 91, 365.0, 73.0, 'B')\n",
      "('Lalit Thakur', 88, 81, 76, 69, 70, 384.0, 76.8, 'B')\n"
     ]
    }
   ],
   "source": [
    "import mysql.connector                 #Print all value\n",
    "database = mysql.connector.connect(\n",
    "    host = \"localhost\",\n",
    "    user = \"root\",\n",
    "    password = \"\",\n",
    "    database = \"brosdway_python\"\n",
    ")\n",
    "db = database.cursor()\n",
    "m = \"SELECT * FROM result\"\n",
    "db.execute(m)\n",
    "rs = db.fetchall()\n",
    "for i in rs:\n",
    "    print(i)\n",
    "database.commit()"
   ]
  },
  {
   "cell_type": "code",
   "execution_count": 11,
   "id": "50503f32",
   "metadata": {},
   "outputs": [
    {
     "name": "stdout",
     "output_type": "stream",
     "text": [
      "('MANISH', 280.0, 56.0, 'C')\n",
      "('Anish', 297.0, 59.4, 'C')\n",
      "('Rima', 332.0, 66.4, 'B')\n",
      "('Rahul', 343.0, 68.6, 'B')\n",
      "('Jay Kumar paswan', 311.0, 62.2, 'B')\n",
      "('Chandani Sah', 303.0, 60.6, 'B')\n",
      "('Anjali Sah', 330.0, 66.0, 'B')\n",
      "('Ajmer eqbal', 330.0, 66.0, 'B')\n",
      "('Krishana Sah', 290.0, 58.0, 'C')\n",
      "('Kamlesh Mukhiya', 325.0, 65.0, 'B')\n",
      "('Govind Sharma', 365.0, 73.0, 'B')\n",
      "('Lalit Thakur', 384.0, 76.8, 'B')\n"
     ]
    }
   ],
   "source": [
    "import mysql.connector                 #Print selected value  eg:-name.total,per,grade\n",
    "database = mysql.connector.connect(\n",
    "    host = \"localhost\",\n",
    "    user = \"root\",\n",
    "    password = \"\",\n",
    "    database = \"brosdway_python\"\n",
    ")\n",
    "db = database.cursor()\n",
    "m = \"SELECT name,total,per,grade FROM result\"\n",
    "db.execute(m)\n",
    "rs = db.fetchall()\n",
    "for i in rs:\n",
    "    print(i)\n",
    "database.commit()"
   ]
  },
  {
   "cell_type": "code",
   "execution_count": 12,
   "id": "7c1506e5",
   "metadata": {},
   "outputs": [
    {
     "name": "stdout",
     "output_type": "stream",
     "text": [
      "('Govind Sharma', 365.0, 73.0, 'B')\n",
      "('Lalit Thakur', 384.0, 76.8, 'B')\n"
     ]
    }
   ],
   "source": [
    "import mysql.connector                 #Print selected value used WHERE(keyword) eg:-name.total,per,grade\n",
    "database = mysql.connector.connect(\n",
    "    host = \"localhost\",\n",
    "    user = \"root\",\n",
    "    password = \"\",\n",
    "    database = \"brosdway_python\"\n",
    ")\n",
    "db = database.cursor()\n",
    "m = \"SELECT name,total,per,grade FROM result WHERE per>=70\"\n",
    "db.execute(m)\n",
    "rs = db.fetchall()\n",
    "for i in rs:\n",
    "    print(i)\n",
    "database.commit()"
   ]
  },
  {
   "cell_type": "code",
   "execution_count": 19,
   "id": "936875ec",
   "metadata": {},
   "outputs": [],
   "source": [
    "import mysql.connector                 #adding date using alter and default value is 2023\n",
    "database = mysql.connector.connect(\n",
    "    host = \"localhost\",\n",
    "    user = \"root\",\n",
    "    password = \"\",\n",
    "    database = \"brosdway_python\"\n",
    ")\n",
    "db = database.cursor()\n",
    "m = f'''ALTER TABLE result ADD (year int default '2023')'''\n",
    "db.execute(m)\n",
    "database.commit()"
   ]
  },
  {
   "cell_type": "code",
   "execution_count": 25,
   "id": "25230687",
   "metadata": {},
   "outputs": [],
   "source": [
    "import mysql.connector                 #DELETION RECORD FROM TABLE result\n",
    "database = mysql.connector.connect(\n",
    "    host = \"localhost\",\n",
    "    user = \"root\",\n",
    "    password = \"\",\n",
    "    database = \"brosdway_python\"\n",
    ")\n",
    "db = database.cursor()\n",
    "m = '''DELETE FROM result WHERE name =\"MANISH\"'''\n",
    "db.execute(m)\n",
    "database.commit()"
   ]
  },
  {
   "cell_type": "code",
   "execution_count": 18,
   "id": "dac0d02e",
   "metadata": {},
   "outputs": [
    {
     "name": "stdout",
     "output_type": "stream",
     "text": [
      "('Rima', 65, 67, 68, 87, 45, 332.0, 66.4, 'B', 2023)\n",
      "('Jay Kumar paswan', 56, 55, 71, 81, 48, 311.0, 62.2, 'B', 2023)\n",
      "('Anjali Sah', 54, 51, 66, 68, 91, 330.0, 66.0, 'B', 2023)\n",
      "('Krishana Sah', 45, 56, 36, 71, 82, 290.0, 58.0, 'C', 2023)\n",
      "('Kamlesh Mukhiya', 87, 76, 65, 54, 43, 325.0, 65.0, 'B', 2023)\n",
      "('Govind Sharma', 77, 87, 65, 45, 91, 365.0, 73.0, 'B', 2023)\n",
      "('Lalit Thakur', 88, 81, 76, 69, 70, 384.0, 76.8, 'B', 2023)\n"
     ]
    }
   ],
   "source": [
    "import mysql.connector                 #Print all value\n",
    "database = mysql.connector.connect(\n",
    "    host = \"localhost\",\n",
    "    user = \"root\",\n",
    "    password = \"\",\n",
    "    database = \"brosdway_python\"\n",
    ")\n",
    "db = database.cursor()\n",
    "# n= input(\"Enter name you want to found his/her data:-\")\n",
    "#m = '''SELECT * FROM result WHERE name=\"n\"'''         #SEARCHING BY \"NAME\" INPUT \n",
    "#m = '''SELECT * FROM result WHERE name=\"Chandani Sah\"'''         #SEARCHING BY \"Chandani Sah\" INPUT \n",
    "# m ='''SELECT * FROM result WHERE physics>=45 and chemistry>=67''' # applying and operation\n",
    "m ='''SELECT * FROM result WHERE physics>=45 or chemistry>=67''' # applying or operation\n",
    "db.execute(m)\n",
    "rs = db.fetchall()\n",
    "for i in rs:\n",
    "    print(i)\n",
    "database.commit()"
   ]
  },
  {
   "cell_type": "code",
   "execution_count": 28,
   "id": "bcbd5344",
   "metadata": {},
   "outputs": [
    {
     "name": "stdout",
     "output_type": "stream",
     "text": [
      "(384.0, 76.8, 'B')\n",
      "(365.0, 73.0, 'B')\n",
      "(343.0, 68.6, 'B')\n",
      "(332.0, 66.4, 'B')\n",
      "(330.0, 66.0, 'B')\n",
      "(330.0, 66.0, 'B')\n",
      "(325.0, 65.0, 'B')\n",
      "(311.0, 62.2, 'B')\n",
      "(303.0, 60.6, 'B')\n",
      "(297.0, 59.4, 'C')\n",
      "(290.0, 58.0, 'C')\n"
     ]
    }
   ],
   "source": [
    "import mysql.connector                 #Print selected value used WHERE(keyword) eg:-name.total,per,grade\n",
    "database = mysql.connector.connect(\n",
    "    host = \"localhost\",\n",
    "    user = \"root\",\n",
    "    password = \"\",\n",
    "    database = \"brosdway_python\"\n",
    ")\n",
    "db = database.cursor()\n",
    "m = '''SELECT total,per,grade FROM result ORDER BY total DESC, PER,GRADE ASC'''   #USE ORDWER BY OPERATION ASC= ASCENDIN AND DESC = DESCENDING\n",
    "db.execute(m)\n",
    "rs = db.fetchall()\n",
    "for i in rs:\n",
    "    print(i)\n",
    "database.commit()"
   ]
  },
  {
   "cell_type": "code",
   "execution_count": 30,
   "id": "259f5eff",
   "metadata": {},
   "outputs": [
    {
     "name": "stdout",
     "output_type": "stream",
     "text": [
      "(297.0, 59.4, 'C')\n",
      "(332.0, 66.4, 'B')\n",
      "(343.0, 68.6, 'B')\n",
      "(311.0, 62.2, 'B')\n",
      "(303.0, 60.6, 'B')\n",
      "(330.0, 66.0, 'B')\n",
      "(330.0, 66.0, 'B')\n",
      "(290.0, 58.0, 'C')\n",
      "(325.0, 65.0, 'B')\n",
      "(365.0, 73.0, 'B')\n",
      "(384.0, 76.8, 'B')\n"
     ]
    }
   ],
   "source": [
    "import mysql.connector                 #Print selected value used WHERE(keyword) eg:-name.total,per,grade\n",
    "database = mysql.connector.connect(\n",
    "    host = \"localhost\",\n",
    "    user = \"root\",\n",
    "    password = \"\",\n",
    "    database = \"brosdway_python\"\n",
    ")\n",
    "db = database.cursor()\n",
    "m = '''SELECT total,per,grade FROM result WHERE physics IS NOT NULL'''  #USING \"IS NULL\" OR \"IS NOT NULL\"\n",
    "db.execute(m)\n",
    "rs = db.fetchall()\n",
    "for i in rs:\n",
    "    print(i)\n",
    "database.commit()"
   ]
  },
  {
   "cell_type": "code",
   "execution_count": 45,
   "id": "f4c497fe",
   "metadata": {},
   "outputs": [
    {
     "name": "stdout",
     "output_type": "stream",
     "text": [
      "(2964.0,)\n"
     ]
    }
   ],
   "source": [
    "import mysql.connector                 #Print selected value used WHERE(keyword) eg:-name.total,per,grade\n",
    "database = mysql.connector.connect(\n",
    "    host = \"localhost\",\n",
    "    user = \"root\",\n",
    "    password = \"\",\n",
    "    database = \"brosdway_python\"\n",
    ")\n",
    "db = database.cursor()\n",
    "# m = '''SELECT MAX(total) FROM result WHERE physics IS NOT NULL'''  #USING  MAX() \n",
    "# m = '''SELECT MIN(total) FROM result WHERE physics IS NOT NULL'''  #USING MIN()\n",
    "m = '''SELECT COUNT(total) FROM result WHERE  physics >=40'''  #USING COUNT()\n",
    "m = '''SELECT AVG(total) FROM result WHERE  physics >=40'''  #USING AVG()\n",
    "m = '''SELECT SUM(total) FROM result WHERE  physics >=40'''  #USING SUM()\n",
    "db.execute(m)\n",
    "rs = db.fetchall()\n",
    "for i in rs:\n",
    "    print(i)\n",
    "database.commit()"
   ]
  },
  {
   "cell_type": "code",
   "execution_count": 28,
   "id": "0a83cd4f",
   "metadata": {},
   "outputs": [
    {
     "name": "stdout",
     "output_type": "stream",
     "text": [
      "('Rima', 65, 67, 68, 87, 45, 332.0, 66.4, 'B', 2023)\n",
      "('Rahul', 34, 66, 87, 82, 74, 343.0, 68.6, 'B', 2023)\n",
      "('Jay Kumar paswan', 56, 55, 71, 81, 48, 311.0, 62.2, 'B', 2023)\n",
      "('Chandani Sah', 34, 51, 63, 79, 76, 303.0, 60.6, 'B', 2023)\n",
      "('Krishana Sah', 45, 56, 36, 71, 82, 290.0, 58.0, 'C', 2023)\n",
      "('Kamlesh Mukhiya', 87, 76, 65, 54, 43, 325.0, 65.0, 'B', 2023)\n",
      "('Govind Sharma', 77, 87, 65, 45, 91, 365.0, 73.0, 'B', 2023)\n",
      "('Lalit Thakur', 88, 81, 76, 69, 70, 384.0, 76.8, 'B', 2023)\n"
     ]
    }
   ],
   "source": [
    "import mysql.connector                 #Print selected value used WHERE(keyword) eg:-name.total,per,grade\n",
    "database = mysql.connector.connect(\n",
    "    host = \"localhost\",\n",
    "    user = \"root\",\n",
    "    password = \"\",\n",
    "    database = \"brosdway_python\"\n",
    ")\n",
    "db = database.cursor()\n",
    "# m = '''SELECT * FROM result WHERE name LIKE \"C%\"'''  #like c% means start with c\n",
    "# m = '''SELECT * FROM result WHERE name LIKE \"%a\"'''  #like %a means end with a\n",
    "# m = '''SELECT * FROM result WHERE name LIKE \"%ha%\"'''  #like %ha% means these alphabet are placed in order\n",
    "# m = '''SELECT * FROM result WHERE name LIKE \"%_a\"'''  #like %ha% means name that have \"a\" in the second position:\n",
    "# m = '''SELECT * FROM result WHERE name LIKE \"R___%\"'''  #like %ha% means name that starts with \"a\" and are at least 3 characters in length:\n",
    "# m = '''SELECT * FROM result WHERE name LIKE \"C%h\"'''  #like %ha% means name that starts with \"C\" and ends with \"h\"\n",
    "m = '''SELECT * FROM result WHERE name NOT LIKE \"a%\"'''  #like %ha% means name that not starts with a\n",
    "db.execute(m)\n",
    "rs = db.fetchall()\n",
    "for i in rs:\n",
    "    print(i)\n",
    "database.commit()"
   ]
  },
  {
   "cell_type": "code",
   "execution_count": 34,
   "id": "14587012",
   "metadata": {},
   "outputs": [
    {
     "name": "stdout",
     "output_type": "stream",
     "text": [
      "('Rahul', 34, 66, 87, 82, 74, 343.0, 68.6, 'B', 2023)\n",
      "('Chandani Sah', 34, 51, 63, 79, 76, 303.0, 60.6, 'B', 2023)\n",
      "('Kamlesh Mukhiya', 87, 76, 65, 54, 43, 325.0, 65.0, 'B', 2023)\n",
      "('Govind Sharma', 77, 87, 65, 45, 91, 365.0, 73.0, 'B', 2023)\n",
      "('Lalit Thakur', 88, 81, 76, 69, 70, 384.0, 76.8, 'B', 2023)\n"
     ]
    }
   ],
   "source": [
    "import mysql.connector                 #Print selected value used WHERE(keyword) eg:-name.total,per,grade\n",
    "database = mysql.connector.connect(\n",
    "    host = \"localhost\",\n",
    "    user = \"root\",\n",
    "    password = \"\",\n",
    "    database = \"brosdway_python\"\n",
    ")\n",
    "db = database.cursor()\n",
    "# m = '''SELECT * FROM result WHERE name IN ('Chandani Sah','Govind Sharma')'''  #IN (value1,value2,...)\n",
    "# m = '''SELECT * FROM result WHERE name NOT IN ('Chandani Sah','Govind Sharma')'''  #NOT IN (value1,value2,...)\n",
    "m = '''SELECT * FROM result WHERE physics BETWEEN 40 AND 70 ''' #BETWEEN VALUE1 AND VALUE2\n",
    "m = '''SELECT * FROM result WHERE physics NOT BETWEEN 40 AND 70 ''' #NOT BETWEEN VALUE1 AND VALUE2\n",
    "db.execute(m)\n",
    "rs = db.fetchall()\n",
    "for i in rs:\n",
    "    print(i)\n",
    "database.commit()"
   ]
  },
  {
   "cell_type": "code",
   "execution_count": null,
   "id": "b96494d8",
   "metadata": {},
   "outputs": [],
   "source": []
  }
 ],
 "metadata": {
  "kernelspec": {
   "display_name": "Python 3 (ipykernel)",
   "language": "python",
   "name": "python3"
  },
  "language_info": {
   "codemirror_mode": {
    "name": "ipython",
    "version": 3
   },
   "file_extension": ".py",
   "mimetype": "text/x-python",
   "name": "python",
   "nbconvert_exporter": "python",
   "pygments_lexer": "ipython3",
   "version": "3.10.9"
  }
 },
 "nbformat": 4,
 "nbformat_minor": 5
}
